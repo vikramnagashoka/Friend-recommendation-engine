{
 "cells": [
  {
   "cell_type": "code",
   "execution_count": null,
   "metadata": {
    "collapsed": true
   },
   "outputs": [],
   "source": [
    "# Execute this once, the first time you run\n",
    "!pip install networkx\n",
    "\n",
    "# Disable Python warning messages - you should probably only run this before submission\n",
    "\n",
    "import warnings\n",
    "warnings.filterwarnings('ignore')"
   ]
  },
  {
   "cell_type": "markdown",
   "metadata": {},
   "source": [
    "## Step 2.1 Spark Setup"
   ]
  },
  {
   "cell_type": "code",
   "execution_count": 1,
   "metadata": {
    "collapsed": true
   },
   "outputs": [],
   "source": [
    "# TODO: Connect to Spark as per Step 2.1\n",
    "from pyspark.sql import SparkSession\n",
    "from pyspark.sql.types import *\n",
    "import pyspark.sql.functions as F\n",
    "\n",
    "spark = SparkSession.builder.appName('Graphs-HW2').getOrCreate()"
   ]
  },
  {
   "cell_type": "code",
   "execution_count": null,
   "metadata": {
    "collapsed": true
   },
   "outputs": [],
   "source": [
    "# Load some dummy data, which should be overwritten in Step 2.2\n",
    "\n",
    "answers_sdf = spark.createDataFrame([{'from_node': 123, 'to_node': 456},\\\n",
    "                                    {'from_node': 456, 'to_node': 789},\n",
    "                                    {'from_node': 456, 'to_node': 890}])\n",
    "comments_answers_sdf = spark.createDataFrame([{'from_node': 123, 'to_node': 456}])\n",
    "comments_questions_sdf = spark.createDataFrame([{'from_node': 123, 'to_node': 456}])\n",
    "\n",
    "graph_sdf = spark.createDataFrame([{'from_node': 123, 'to_node': 456}])"
   ]
  },
  {
   "cell_type": "code",
   "execution_count": null,
   "metadata": {
    "collapsed": true
   },
   "outputs": [],
   "source": [
    "answers_sdf"
   ]
  },
  {
   "cell_type": "markdown",
   "metadata": {},
   "source": [
    "## Step 2.2 Loading"
   ]
  },
  {
   "cell_type": "code",
   "execution_count": 2,
   "metadata": {
    "collapsed": true
   },
   "outputs": [],
   "source": [
    "# TODO: load data as per Step 2.2\n",
    "answers_sdf = spark.read.load('sx-stackoverflow-a2q.txt', format=\"text\")"
   ]
  },
  {
   "cell_type": "code",
   "execution_count": 333,
   "metadata": {
    "collapsed": false
   },
   "outputs": [
    {
     "data": {
      "text/plain": [
       "17823525"
      ]
     },
     "execution_count": 333,
     "metadata": {},
     "output_type": "execute_result"
    }
   ],
   "source": [
    "answers_sdf.count()"
   ]
  },
  {
   "cell_type": "code",
   "execution_count": 334,
   "metadata": {
    "collapsed": false
   },
   "outputs": [
    {
     "name": "stdout",
     "output_type": "stream",
     "text": [
      "+---------+-------+----------+\n",
      "|from_node|to_node|    answer|\n",
      "+---------+-------+----------+\n",
      "|        9|      8|1217567877|\n",
      "|        1|      1|1217573801|\n",
      "|       13|      1|1217606247|\n",
      "|       17|      1|1217617639|\n",
      "|       48|      2|1217618182|\n",
      "|       17|      1|1217618239|\n",
      "|       19|      9|1217618357|\n",
      "|       13|     23|1217618560|\n",
      "|       13|     11|1217618799|\n",
      "|       23|     23|1217619360|\n",
      "+---------+-------+----------+\n",
      "only showing top 10 rows\n",
      "\n"
     ]
    }
   ],
   "source": [
    "answers_sdf.show(10)"
   ]
  },
  {
   "cell_type": "code",
   "execution_count": 335,
   "metadata": {
    "collapsed": false
   },
   "outputs": [
    {
     "name": "stdout",
     "output_type": "stream",
     "text": [
      "root\n",
      " |-- from_node: integer (nullable = true)\n",
      " |-- to_node: integer (nullable = true)\n",
      " |-- answer: integer (nullable = true)\n",
      "\n"
     ]
    }
   ],
   "source": [
    "answers_sdf.printSchema()"
   ]
  },
  {
   "cell_type": "code",
   "execution_count": 3,
   "metadata": {
    "collapsed": true
   },
   "outputs": [],
   "source": [
    "comments_answers_sdf = spark.read.load('sx-stackoverflow-c2a.txt', format=\"text\")"
   ]
  },
  {
   "cell_type": "code",
   "execution_count": 336,
   "metadata": {
    "collapsed": false
   },
   "outputs": [
    {
     "data": {
      "text/plain": [
       "25405374"
      ]
     },
     "execution_count": 336,
     "metadata": {},
     "output_type": "execute_result"
    }
   ],
   "source": [
    "comments_answers_sdf.count()"
   ]
  },
  {
   "cell_type": "code",
   "execution_count": 337,
   "metadata": {
    "collapsed": false
   },
   "outputs": [
    {
     "name": "stdout",
     "output_type": "stream",
     "text": [
      "+---------+-------+-----------------+\n",
      "|from_node|to_node|comment-on-answer|\n",
      "+---------+-------+-----------------+\n",
      "|        1|     91|       1220713630|\n",
      "|        3|     91|       1220713792|\n",
      "|      380|    350|       1220715736|\n",
      "|     4642|   2257|       1220734307|\n",
      "|     4642|1324220|       1220735746|\n",
      "|     2495|   4285|       1220736640|\n",
      "|     4642|   4893|       1220737355|\n",
      "|     2515|   4903|       1220738560|\n",
      "|     2515|   4893|       1220739071|\n",
      "|      199|    199|       1220741079|\n",
      "+---------+-------+-----------------+\n",
      "only showing top 10 rows\n",
      "\n"
     ]
    }
   ],
   "source": [
    "comments_answers_sdf.show(10)"
   ]
  },
  {
   "cell_type": "code",
   "execution_count": 338,
   "metadata": {
    "collapsed": false
   },
   "outputs": [
    {
     "name": "stdout",
     "output_type": "stream",
     "text": [
      "root\n",
      " |-- from_node: integer (nullable = true)\n",
      " |-- to_node: integer (nullable = true)\n",
      " |-- comment-on-answer: string (nullable = true)\n",
      "\n"
     ]
    }
   ],
   "source": [
    "comments_answers_sdf.printSchema()"
   ]
  },
  {
   "cell_type": "code",
   "execution_count": 4,
   "metadata": {
    "collapsed": true
   },
   "outputs": [],
   "source": [
    "comments_questions_sdf = spark.read.load('sx-stackoverflow-c2q.txt', format=\"text\")"
   ]
  },
  {
   "cell_type": "code",
   "execution_count": 339,
   "metadata": {
    "collapsed": false
   },
   "outputs": [
    {
     "data": {
      "text/plain": [
       "20268151"
      ]
     },
     "execution_count": 339,
     "metadata": {},
     "output_type": "execute_result"
    }
   ],
   "source": [
    "comments_questions_sdf.count()"
   ]
  },
  {
   "cell_type": "code",
   "execution_count": 340,
   "metadata": {
    "collapsed": false
   },
   "outputs": [
    {
     "name": "stdout",
     "output_type": "stream",
     "text": [
      "+---------+-------+-------------------+\n",
      "|from_node|to_node|comment-on-question|\n",
      "+---------+-------+-------------------+\n",
      "|     4550|   4550|         1220729190|\n",
      "|      242|    184|         1220733503|\n",
      "|     4213|   4946|         1220768149|\n",
      "|       91|     91|         1220768295|\n",
      "|     2658|   1874|         1220771891|\n",
      "|     4035|   1874|         1220773037|\n",
      "|     2257|   4489|         1220802041|\n",
      "|      577|    577|         1220834891|\n",
      "|     4489|   4489|         1220853536|\n",
      "|      828|   2783|         1220854143|\n",
      "+---------+-------+-------------------+\n",
      "only showing top 10 rows\n",
      "\n"
     ]
    }
   ],
   "source": [
    "comments_questions_sdf.show(10)"
   ]
  },
  {
   "cell_type": "code",
   "execution_count": 341,
   "metadata": {
    "collapsed": false
   },
   "outputs": [
    {
     "name": "stdout",
     "output_type": "stream",
     "text": [
      "root\n",
      " |-- from_node: integer (nullable = true)\n",
      " |-- to_node: integer (nullable = true)\n",
      " |-- comment-on-question: string (nullable = true)\n",
      "\n"
     ]
    }
   ],
   "source": [
    "comments_questions_sdf.printSchema()"
   ]
  },
  {
   "cell_type": "code",
   "execution_count": null,
   "metadata": {
    "collapsed": true
   },
   "outputs": [],
   "source": []
  },
  {
   "cell_type": "code",
   "execution_count": null,
   "metadata": {
    "collapsed": true
   },
   "outputs": [],
   "source": [
    "# You may add as many cells as you like here.\n",
    "# Use Insert | Insert Cell Below"
   ]
  },
  {
   "cell_type": "markdown",
   "metadata": {},
   "source": [
    "## Step 2.2 Results"
   ]
  },
  {
   "cell_type": "code",
   "execution_count": 34,
   "metadata": {
    "collapsed": false
   },
   "outputs": [
    {
     "data": {
      "text/plain": [
       "17823525"
      ]
     },
     "execution_count": 34,
     "metadata": {},
     "output_type": "execute_result"
    }
   ],
   "source": [
    "answers_sdf.count()"
   ]
  },
  {
   "cell_type": "code",
   "execution_count": 342,
   "metadata": {
    "collapsed": false
   },
   "outputs": [
    {
     "name": "stdout",
     "output_type": "stream",
     "text": [
      "+---------+-------+----------+\n",
      "|from_node|to_node|    answer|\n",
      "+---------+-------+----------+\n",
      "|        9|      8|1217567877|\n",
      "|        1|      1|1217573801|\n",
      "|       13|      1|1217606247|\n",
      "|       17|      1|1217617639|\n",
      "|       48|      2|1217618182|\n",
      "|       17|      1|1217618239|\n",
      "|       19|      9|1217618357|\n",
      "|       13|     23|1217618560|\n",
      "|       13|     11|1217618799|\n",
      "|       23|     23|1217619360|\n",
      "|       35|     33|1217620542|\n",
      "|       39|     33|1217620597|\n",
      "|       43|     22|1217620971|\n",
      "|       17|     32|1217621272|\n",
      "|       39|     40|1217621416|\n",
      "|       37|     40|1217621670|\n",
      "|       45|     45|1217621917|\n",
      "|       17|     17|1217622124|\n",
      "|       49|     13|1217623079|\n",
      "|       13|     23|1217623216|\n",
      "+---------+-------+----------+\n",
      "only showing top 20 rows\n",
      "\n"
     ]
    }
   ],
   "source": [
    "answers_sdf.show()"
   ]
  },
  {
   "cell_type": "code",
   "execution_count": 343,
   "metadata": {
    "collapsed": false
   },
   "outputs": [
    {
     "name": "stdout",
     "output_type": "stream",
     "text": [
      "root\n",
      " |-- from_node: integer (nullable = true)\n",
      " |-- to_node: integer (nullable = true)\n",
      " |-- answer: integer (nullable = true)\n",
      "\n"
     ]
    }
   ],
   "source": [
    "answers_sdf.printSchema()"
   ]
  },
  {
   "cell_type": "code",
   "execution_count": 344,
   "metadata": {
    "collapsed": false
   },
   "outputs": [
    {
     "data": {
      "text/plain": [
       "25405374"
      ]
     },
     "execution_count": 344,
     "metadata": {},
     "output_type": "execute_result"
    }
   ],
   "source": [
    "comments_answers_sdf.count()"
   ]
  },
  {
   "cell_type": "code",
   "execution_count": 345,
   "metadata": {
    "collapsed": false
   },
   "outputs": [
    {
     "name": "stdout",
     "output_type": "stream",
     "text": [
      "+---------+-------+-----------------+\n",
      "|from_node|to_node|comment-on-answer|\n",
      "+---------+-------+-----------------+\n",
      "|        1|     91|       1220713630|\n",
      "|        3|     91|       1220713792|\n",
      "|      380|    350|       1220715736|\n",
      "|     4642|   2257|       1220734307|\n",
      "|     4642|1324220|       1220735746|\n",
      "|     2495|   4285|       1220736640|\n",
      "|     4642|   4893|       1220737355|\n",
      "|     2515|   4903|       1220738560|\n",
      "|     2515|   4893|       1220739071|\n",
      "|      199|    199|       1220741079|\n",
      "+---------+-------+-----------------+\n",
      "only showing top 10 rows\n",
      "\n"
     ]
    }
   ],
   "source": [
    "comments_answers_sdf.show(10)"
   ]
  },
  {
   "cell_type": "code",
   "execution_count": 346,
   "metadata": {
    "collapsed": false
   },
   "outputs": [
    {
     "name": "stdout",
     "output_type": "stream",
     "text": [
      "root\n",
      " |-- from_node: integer (nullable = true)\n",
      " |-- to_node: integer (nullable = true)\n",
      " |-- comment-on-answer: string (nullable = true)\n",
      "\n"
     ]
    }
   ],
   "source": [
    "comments_answers_sdf.printSchema()"
   ]
  },
  {
   "cell_type": "code",
   "execution_count": 347,
   "metadata": {
    "collapsed": false
   },
   "outputs": [
    {
     "data": {
      "text/plain": [
       "20268151"
      ]
     },
     "execution_count": 347,
     "metadata": {},
     "output_type": "execute_result"
    }
   ],
   "source": [
    "comments_questions_sdf.count()"
   ]
  },
  {
   "cell_type": "code",
   "execution_count": 348,
   "metadata": {
    "collapsed": false
   },
   "outputs": [
    {
     "name": "stdout",
     "output_type": "stream",
     "text": [
      "+---------+-------+-------------------+\n",
      "|from_node|to_node|comment-on-question|\n",
      "+---------+-------+-------------------+\n",
      "|     4550|   4550|         1220729190|\n",
      "|      242|    184|         1220733503|\n",
      "|     4213|   4946|         1220768149|\n",
      "|       91|     91|         1220768295|\n",
      "|     2658|   1874|         1220771891|\n",
      "|     4035|   1874|         1220773037|\n",
      "|     2257|   4489|         1220802041|\n",
      "|      577|    577|         1220834891|\n",
      "|     4489|   4489|         1220853536|\n",
      "|      828|   2783|         1220854143|\n",
      "+---------+-------+-------------------+\n",
      "only showing top 10 rows\n",
      "\n"
     ]
    }
   ],
   "source": [
    "comments_questions_sdf.show(10)"
   ]
  },
  {
   "cell_type": "code",
   "execution_count": 349,
   "metadata": {
    "collapsed": false
   },
   "outputs": [
    {
     "name": "stdout",
     "output_type": "stream",
     "text": [
      "root\n",
      " |-- from_node: integer (nullable = true)\n",
      " |-- to_node: integer (nullable = true)\n",
      " |-- comment-on-question: string (nullable = true)\n",
      "\n"
     ]
    }
   ],
   "source": [
    "comments_questions_sdf.printSchema()"
   ]
  },
  {
   "cell_type": "markdown",
   "metadata": {},
   "source": [
    "## Step 2.3"
   ]
  },
  {
   "cell_type": "code",
   "execution_count": 6,
   "metadata": {
    "collapsed": true
   },
   "outputs": [],
   "source": [
    "# TODO: wrangling work in Step 2.3.  Add as many Cells as you need\n",
    "from pyspark.sql.functions import *\n",
    "from pyspark.sql.types import * "
   ]
  },
  {
   "cell_type": "code",
   "execution_count": 7,
   "metadata": {
    "collapsed": false
   },
   "outputs": [
    {
     "name": "stdout",
     "output_type": "stream",
     "text": [
      "+---------+-------+----------+\n",
      "|from_node|to_node|    answer|\n",
      "+---------+-------+----------+\n",
      "|        9|      8|1217567877|\n",
      "|        1|      1|1217573801|\n",
      "|       13|      1|1217606247|\n",
      "|       17|      1|1217617639|\n",
      "|       48|      2|1217618182|\n",
      "|       17|      1|1217618239|\n",
      "|       19|      9|1217618357|\n",
      "|       13|     23|1217618560|\n",
      "|       13|     11|1217618799|\n",
      "|       23|     23|1217619360|\n",
      "+---------+-------+----------+\n",
      "only showing top 10 rows\n",
      "\n"
     ]
    }
   ],
   "source": [
    "split_col = split(answers_sdf['value'], ' ')\n",
    "\n",
    "answers_sdf = answers_sdf.withColumn('from_node', split_col.getItem(0))\n",
    "answers_sdf = answers_sdf.withColumn('to_node', split_col.getItem(1))\n",
    "answers_sdf = answers_sdf.withColumn(\"answer\", split_col.getItem(2))\n",
    "\n",
    "answers_sdf = answers_sdf.drop(\"value\")\n",
    "\n",
    "answers_sdf = answers_sdf.withColumn('from_node', answers_sdf[\"from_node\"].cast(IntegerType()))\n",
    "answers_sdf = answers_sdf.withColumn('to_node', answers_sdf[\"to_node\"].cast(IntegerType()))\n",
    "answers_sdf = answers_sdf.withColumn('answer', answers_sdf[\"answer\"].cast(IntegerType()))\n",
    "\n",
    "answers_sdf.show(10)"
   ]
  },
  {
   "cell_type": "code",
   "execution_count": 8,
   "metadata": {
    "collapsed": false
   },
   "outputs": [
    {
     "name": "stdout",
     "output_type": "stream",
     "text": [
      "+---------+-------+-----------------+\n",
      "|from_node|to_node|comment-on-answer|\n",
      "+---------+-------+-----------------+\n",
      "|        1|     91|       1220713630|\n",
      "|        3|     91|       1220713792|\n",
      "|      380|    350|       1220715736|\n",
      "|     4642|   2257|       1220734307|\n",
      "|     4642|1324220|       1220735746|\n",
      "|     2495|   4285|       1220736640|\n",
      "|     4642|   4893|       1220737355|\n",
      "|     2515|   4903|       1220738560|\n",
      "|     2515|   4893|       1220739071|\n",
      "|      199|    199|       1220741079|\n",
      "+---------+-------+-----------------+\n",
      "only showing top 10 rows\n",
      "\n"
     ]
    }
   ],
   "source": [
    "split_col_comments = split(comments_answers_sdf['value'], ' ')\n",
    "\n",
    "comments_answers_sdf = comments_answers_sdf.withColumn('from_node', split_col_comments.getItem(0))\n",
    "comments_answers_sdf = comments_answers_sdf.withColumn('to_node', split_col_comments.getItem(1))\n",
    "comments_answers_sdf = comments_answers_sdf.withColumn(\"comment-on-answer\", split_col_comments.getItem(2))\n",
    "\n",
    "comments_answers_sdf = comments_answers_sdf.drop(\"value\")\n",
    "\n",
    "comments_answers_sdf = comments_answers_sdf.withColumn('from_node', comments_answers_sdf[\"from_node\"].cast(IntegerType()))\n",
    "comments_answers_sdf = comments_answers_sdf.withColumn('to_node', comments_answers_sdf[\"to_node\"].cast(IntegerType()))\n",
    "#comments_answers_sdf = comments_answers_sdf.withColumn('answer', comments_answers_sdf[\"answer\"].cast(IntegerType()))\n",
    "\n",
    "comments_answers_sdf.show(10)"
   ]
  },
  {
   "cell_type": "code",
   "execution_count": 9,
   "metadata": {
    "collapsed": false
   },
   "outputs": [
    {
     "name": "stdout",
     "output_type": "stream",
     "text": [
      "+---------+-------+-------------------+\n",
      "|from_node|to_node|comment-on-question|\n",
      "+---------+-------+-------------------+\n",
      "|     4550|   4550|         1220729190|\n",
      "|      242|    184|         1220733503|\n",
      "|     4213|   4946|         1220768149|\n",
      "|       91|     91|         1220768295|\n",
      "|     2658|   1874|         1220771891|\n",
      "|     4035|   1874|         1220773037|\n",
      "|     2257|   4489|         1220802041|\n",
      "|      577|    577|         1220834891|\n",
      "|     4489|   4489|         1220853536|\n",
      "|      828|   2783|         1220854143|\n",
      "+---------+-------+-------------------+\n",
      "only showing top 10 rows\n",
      "\n"
     ]
    }
   ],
   "source": [
    "split_col_questions = split(comments_questions_sdf['value'], ' ')\n",
    "\n",
    "comments_questions_sdf = comments_questions_sdf.withColumn('from_node', split_col_questions.getItem(0))\n",
    "comments_questions_sdf = comments_questions_sdf.withColumn('to_node', split_col_questions.getItem(1))\n",
    "comments_questions_sdf = comments_questions_sdf.withColumn(\"comment-on-question\", split_col_questions.getItem(2))\n",
    "\n",
    "comments_questions_sdf = comments_questions_sdf.drop(\"value\")\n",
    "\n",
    "comments_questions_sdf = comments_questions_sdf.withColumn('from_node', comments_questions_sdf[\"from_node\"].cast(IntegerType()))\n",
    "comments_questions_sdf = comments_questions_sdf.withColumn('to_node', comments_questions_sdf[\"to_node\"].cast(IntegerType()))\n",
    "#comments_questions_sdf = comments_questions_sdf.withColumn('answer', comments_questions_sdf[\"comment-on-question\"].cast(IntegerType()))\n",
    "\n",
    "comments_questions_sdf.show(10)\n"
   ]
  },
  {
   "cell_type": "code",
   "execution_count": 20,
   "metadata": {
    "collapsed": false
   },
   "outputs": [
    {
     "name": "stdout",
     "output_type": "stream",
     "text": [
      "+---------+-------+----------+\n",
      "|from_node|to_node|    answer|\n",
      "+---------+-------+----------+\n",
      "|        9|      8|1217567877|\n",
      "|        1|      1|1217573801|\n",
      "|       13|      1|1217606247|\n",
      "|       17|      1|1217617639|\n",
      "|       48|      2|1217618182|\n",
      "|       17|      1|1217618239|\n",
      "|       19|      9|1217618357|\n",
      "|       13|     23|1217618560|\n",
      "|       13|     11|1217618799|\n",
      "|       23|     23|1217619360|\n",
      "+---------+-------+----------+\n",
      "only showing top 10 rows\n",
      "\n"
     ]
    }
   ],
   "source": [
    "temp_sdf = answers_sdf.unionAll(comments_questions_sdf)\n",
    "graph_sdf = temp_sdf.unionAll(comments_answers_sdf)\n",
    "graph_sdf.show(10)"
   ]
  },
  {
   "cell_type": "code",
   "execution_count": null,
   "metadata": {
    "collapsed": true
   },
   "outputs": [],
   "source": []
  },
  {
   "cell_type": "code",
   "execution_count": null,
   "metadata": {
    "collapsed": true
   },
   "outputs": [],
   "source": []
  },
  {
   "cell_type": "code",
   "execution_count": null,
   "metadata": {
    "collapsed": true
   },
   "outputs": [],
   "source": []
  },
  {
   "cell_type": "code",
   "execution_count": null,
   "metadata": {
    "collapsed": true
   },
   "outputs": [],
   "source": []
  },
  {
   "cell_type": "code",
   "execution_count": null,
   "metadata": {
    "collapsed": true
   },
   "outputs": [],
   "source": []
  },
  {
   "cell_type": "markdown",
   "metadata": {},
   "source": [
    "## Step 2.3 Results"
   ]
  },
  {
   "cell_type": "code",
   "execution_count": 10,
   "metadata": {
    "collapsed": false
   },
   "outputs": [
    {
     "data": {
      "text/plain": [
       "17823525"
      ]
     },
     "execution_count": 10,
     "metadata": {},
     "output_type": "execute_result"
    }
   ],
   "source": [
    "answers_sdf.count()"
   ]
  },
  {
   "cell_type": "code",
   "execution_count": 11,
   "metadata": {
    "collapsed": false
   },
   "outputs": [
    {
     "name": "stdout",
     "output_type": "stream",
     "text": [
      "+---------+-------+----------+\n",
      "|from_node|to_node|    answer|\n",
      "+---------+-------+----------+\n",
      "|        9|      8|1217567877|\n",
      "|        1|      1|1217573801|\n",
      "|       13|      1|1217606247|\n",
      "|       17|      1|1217617639|\n",
      "|       48|      2|1217618182|\n",
      "+---------+-------+----------+\n",
      "only showing top 5 rows\n",
      "\n"
     ]
    }
   ],
   "source": [
    "answers_sdf.show(5)"
   ]
  },
  {
   "cell_type": "code",
   "execution_count": 12,
   "metadata": {
    "collapsed": false
   },
   "outputs": [
    {
     "name": "stdout",
     "output_type": "stream",
     "text": [
      "root\n",
      " |-- from_node: integer (nullable = true)\n",
      " |-- to_node: integer (nullable = true)\n",
      " |-- answer: integer (nullable = true)\n",
      "\n"
     ]
    }
   ],
   "source": [
    "answers_sdf.printSchema()"
   ]
  },
  {
   "cell_type": "code",
   "execution_count": 13,
   "metadata": {
    "collapsed": false
   },
   "outputs": [
    {
     "data": {
      "text/plain": [
       "25405374"
      ]
     },
     "execution_count": 13,
     "metadata": {},
     "output_type": "execute_result"
    }
   ],
   "source": [
    "comments_answers_sdf.count()"
   ]
  },
  {
   "cell_type": "code",
   "execution_count": 14,
   "metadata": {
    "collapsed": false
   },
   "outputs": [
    {
     "name": "stdout",
     "output_type": "stream",
     "text": [
      "+---------+-------+-----------------+\n",
      "|from_node|to_node|comment-on-answer|\n",
      "+---------+-------+-----------------+\n",
      "|        1|     91|       1220713630|\n",
      "|        3|     91|       1220713792|\n",
      "|      380|    350|       1220715736|\n",
      "|     4642|   2257|       1220734307|\n",
      "|     4642|1324220|       1220735746|\n",
      "+---------+-------+-----------------+\n",
      "only showing top 5 rows\n",
      "\n"
     ]
    }
   ],
   "source": [
    "comments_answers_sdf.show(5)"
   ]
  },
  {
   "cell_type": "code",
   "execution_count": 15,
   "metadata": {
    "collapsed": false
   },
   "outputs": [
    {
     "name": "stdout",
     "output_type": "stream",
     "text": [
      "root\n",
      " |-- from_node: integer (nullable = true)\n",
      " |-- to_node: integer (nullable = true)\n",
      " |-- comment-on-answer: string (nullable = true)\n",
      "\n"
     ]
    }
   ],
   "source": [
    "comments_answers_sdf.printSchema()"
   ]
  },
  {
   "cell_type": "code",
   "execution_count": 16,
   "metadata": {
    "collapsed": false
   },
   "outputs": [
    {
     "data": {
      "text/plain": [
       "20268151"
      ]
     },
     "execution_count": 16,
     "metadata": {},
     "output_type": "execute_result"
    }
   ],
   "source": [
    " comments_questions_sdf.count()"
   ]
  },
  {
   "cell_type": "code",
   "execution_count": 17,
   "metadata": {
    "collapsed": false
   },
   "outputs": [
    {
     "name": "stdout",
     "output_type": "stream",
     "text": [
      "+---------+-------+-------------------+\n",
      "|from_node|to_node|comment-on-question|\n",
      "+---------+-------+-------------------+\n",
      "|     4550|   4550|         1220729190|\n",
      "|      242|    184|         1220733503|\n",
      "|     4213|   4946|         1220768149|\n",
      "|       91|     91|         1220768295|\n",
      "|     2658|   1874|         1220771891|\n",
      "+---------+-------+-------------------+\n",
      "only showing top 5 rows\n",
      "\n"
     ]
    }
   ],
   "source": [
    "comments_questions_sdf.show(5)"
   ]
  },
  {
   "cell_type": "code",
   "execution_count": 18,
   "metadata": {
    "collapsed": false
   },
   "outputs": [
    {
     "name": "stdout",
     "output_type": "stream",
     "text": [
      "root\n",
      " |-- from_node: integer (nullable = true)\n",
      " |-- to_node: integer (nullable = true)\n",
      " |-- comment-on-question: string (nullable = true)\n",
      "\n"
     ]
    }
   ],
   "source": [
    "comments_questions_sdf.printSchema()"
   ]
  },
  {
   "cell_type": "code",
   "execution_count": 21,
   "metadata": {
    "collapsed": false
   },
   "outputs": [
    {
     "data": {
      "text/plain": [
       "63497050"
      ]
     },
     "execution_count": 21,
     "metadata": {},
     "output_type": "execute_result"
    }
   ],
   "source": [
    "graph_sdf.count()"
   ]
  },
  {
   "cell_type": "code",
   "execution_count": 22,
   "metadata": {
    "collapsed": false
   },
   "outputs": [
    {
     "name": "stdout",
     "output_type": "stream",
     "text": [
      "+---------+-------+----------+\n",
      "|from_node|to_node|    answer|\n",
      "+---------+-------+----------+\n",
      "|        9|      8|1217567877|\n",
      "|        1|      1|1217573801|\n",
      "|       13|      1|1217606247|\n",
      "|       17|      1|1217617639|\n",
      "|       48|      2|1217618182|\n",
      "+---------+-------+----------+\n",
      "only showing top 5 rows\n",
      "\n"
     ]
    }
   ],
   "source": [
    "graph_sdf.show(5)"
   ]
  },
  {
   "cell_type": "code",
   "execution_count": 23,
   "metadata": {
    "collapsed": false
   },
   "outputs": [
    {
     "name": "stdout",
     "output_type": "stream",
     "text": [
      "root\n",
      " |-- from_node: integer (nullable = true)\n",
      " |-- to_node: integer (nullable = true)\n",
      " |-- answer: string (nullable = true)\n",
      "\n"
     ]
    }
   ],
   "source": [
    "graph_sdf.printSchema()"
   ]
  },
  {
   "cell_type": "markdown",
   "metadata": {},
   "source": [
    "## Step 2.4"
   ]
  },
  {
   "cell_type": "code",
   "execution_count": 24,
   "metadata": {
    "collapsed": false
   },
   "outputs": [
    {
     "name": "stdout",
     "output_type": "stream",
     "text": [
      "root\n",
      " |-- from_node: integer (nullable = true)\n",
      " |-- to_node: integer (nullable = true)\n",
      " |-- answer: string (nullable = true)\n",
      "\n"
     ]
    }
   ],
   "source": [
    "# You may put any computations you need here\n",
    "\n",
    "graph_sdf.printSchema()"
   ]
  },
  {
   "cell_type": "markdown",
   "metadata": {},
   "source": [
    "## Step 2.4.1 Results"
   ]
  },
  {
   "cell_type": "code",
   "execution_count": 25,
   "metadata": {
    "collapsed": false
   },
   "outputs": [
    {
     "name": "stdout",
     "output_type": "stream",
     "text": [
      "+---------+-----+\n",
      "|from_node|count|\n",
      "+---------+-----+\n",
      "|    22656|32030|\n",
      "|  1144035|25146|\n",
      "|    29407|20842|\n",
      "|   548225|16944|\n",
      "|   157882|16615|\n",
      "|   115145|16515|\n",
      "|    17034|15437|\n",
      "|   100297|15020|\n",
      "|     6309|14291|\n",
      "|    34397|14033|\n",
      "+---------+-----+\n",
      "only showing top 10 rows\n",
      "\n"
     ]
    }
   ],
   "source": [
    "# TODO: output dataframe with top 10 users by number of questions\n",
    "most_answers_sdf = answers_sdf.groupBy(\"from_node\")\n",
    "count = most_answers_sdf.count()\n",
    "count.sort(desc(\"count\")).show(10)"
   ]
  },
  {
   "cell_type": "code",
   "execution_count": 27,
   "metadata": {
    "collapsed": false
   },
   "outputs": [
    {
     "name": "stdout",
     "output_type": "stream",
     "text": [
      "+---------+-------------+\n",
      "|from_node|Count_Answers|\n",
      "+---------+-------------+\n",
      "|    22656|        22860|\n",
      "|  1144035|        21032|\n",
      "|   548225|        14127|\n",
      "|    29407|        13043|\n",
      "|   115145|        12243|\n",
      "|    19068|        12114|\n",
      "|   100297|        11486|\n",
      "|    34397|        11368|\n",
      "|    17034|        11347|\n",
      "|     6309|        11057|\n",
      "+---------+-------------+\n",
      "only showing top 10 rows\n",
      "\n"
     ]
    }
   ],
   "source": [
    "# TODO: output top 10 users by number of answers to questions by distinct users\n",
    "answers_sdf.createOrReplaceTempView('my_sdf')\n",
    "spark.sql('SELECT from_node, COUNT(DISTINCT to_node) as Count_Answers from my_sdf group by from_node ORDER BY Count_answers DESC').show(10)\n"
   ]
  },
  {
   "cell_type": "markdown",
   "metadata": {},
   "source": [
    "## Step 2.4.2 Results"
   ]
  },
  {
   "cell_type": "code",
   "execution_count": 28,
   "metadata": {
    "collapsed": false
   },
   "outputs": [
    {
     "name": "stdout",
     "output_type": "stream",
     "text": [
      "150681\n"
     ]
    }
   ],
   "source": [
    "# TODO: number of users whose questions have never been answered or commented on\n",
    "to_ignore = comments_questions_sdf.select('to_node').subtract(answers_sdf.select('to_node')).collect()\n",
    "ignored_users = [item[0] for item in to_ignore]\n",
    "print(len(ignored_users))"
   ]
  },
  {
   "cell_type": "code",
   "execution_count": null,
   "metadata": {
    "collapsed": true
   },
   "outputs": [],
   "source": []
  },
  {
   "cell_type": "code",
   "execution_count": null,
   "metadata": {
    "collapsed": true
   },
   "outputs": [],
   "source": []
  },
  {
   "cell_type": "code",
   "execution_count": 102,
   "metadata": {
    "collapsed": false
   },
   "outputs": [
    {
     "name": "stdout",
     "output_type": "stream",
     "text": [
      "+---------+-------+----------+---------+-------+----------+\n",
      "|from_node|to_node|    answer|from_node|to_node|    answer|\n",
      "+---------+-------+----------+---------+-------+----------+\n",
      "|   350858| 630238|1333992527|     null|   null|      null|\n",
      "|       17|      1|1217617639|        1|     17|1228255973|\n",
      "|       17|      1|1217618239|        1|     17|1228255973|\n",
      "|   865038|1136709|1333992498|     null|   null|      null|\n",
      "|  3046513|3065567|1386369092|     null|   null|      null|\n",
      "|  1622493|4932661|1436514774|     null|   null|      null|\n",
      "|       50|     37|1217623475|     null|   null|      null|\n",
      "|  2559906|1951607|1436514928|     null|   null|      null|\n",
      "|       43|     22|1217620971|     null|   null|      null|\n",
      "|  2844234|4980054|1436514984|     null|   null|      null|\n",
      "|  1755565|1755565|1386369042|  1755565|1755565|1386350706|\n",
      "|  1755565|1755565|1386369042|  1755565|1755565|1386369042|\n",
      "|  1755565|1755565|1386369042|  1755565|1755565|1393962196|\n",
      "|  3439404|5100231|1436514773|     null|   null|      null|\n",
      "|       39|     33|1217620597|       33|     39|1217638634|\n",
      "|  3744182|2600189|1436514759|     null|   null|      null|\n",
      "|   492736|  90922|1333992465|     null|   null|      null|\n",
      "|       37|     40|1217621670|       40|     37|1217623560|\n",
      "|       49|     13|1217623079|     null|   null|      null|\n",
      "|   238978|1099531|1333992480|     null|   null|      null|\n",
      "+---------+-------+----------+---------+-------+----------+\n",
      "only showing top 20 rows\n",
      "\n"
     ]
    }
   ],
   "source": [
    "mutual.show()"
   ]
  },
  {
   "cell_type": "markdown",
   "metadata": {},
   "source": [
    "## Step 2.4.3 Results"
   ]
  },
  {
   "cell_type": "code",
   "execution_count": 134,
   "metadata": {
    "collapsed": false
   },
   "outputs": [
    {
     "name": "stdout",
     "output_type": "stream",
     "text": [
      "+---------+-------+-----+\n",
      "|from_node|to_node|Count|\n",
      "+---------+-------+-----+\n",
      "|   315935| 742402|  155|\n",
      "|   217408|2258442|  105|\n",
      "|     6309| 399145|   81|\n",
      "|   157882|1391249|   78|\n",
      "|     6309| 470184|   76|\n",
      "|   157882| 240337|   76|\n",
      "|    91299| 167454|   73|\n",
      "|   505088|  46207|   72|\n",
      "|   505088| 988445|   69|\n",
      "|   366797|  15168|   65|\n",
      "+---------+-------+-----+\n",
      "only showing top 10 rows\n",
      "\n"
     ]
    }
   ],
   "source": [
    "# TODO: top 10 pairs of users by mutual answers, along with the number of questions they have mutually answered\n",
    "\n",
    "from_mutual = spark.sql('SELECT from_node, to_node, count(*) as count FROM my_answers_sdf GROUP BY from_node, to_node')\n",
    "from_mutual.createOrReplaceTempView('from_mutual_view')\n",
    "\n",
    "mutual_n = spark.sql('SELECT a1.from_node, a1.to_node, a1.count+IFNULL(a2.count, 0) as Count from from_mutual_view as a1 LEFT JOIN from_mutual_view as a2 ON a1.from_node = a2.to_node AND a1.to_node = a2.from_node WHERE a1.from_node != a1.to_node ORDER BY Count DESC')\n",
    "mutual_n.show(10)"
   ]
  },
  {
   "cell_type": "code",
   "execution_count": null,
   "metadata": {
    "collapsed": true
   },
   "outputs": [],
   "source": []
  },
  {
   "cell_type": "code",
   "execution_count": null,
   "metadata": {
    "collapsed": true
   },
   "outputs": [],
   "source": []
  },
  {
   "cell_type": "code",
   "execution_count": null,
   "metadata": {
    "collapsed": true
   },
   "outputs": [],
   "source": []
  },
  {
   "cell_type": "code",
   "execution_count": null,
   "metadata": {
    "collapsed": true
   },
   "outputs": [],
   "source": []
  },
  {
   "cell_type": "code",
   "execution_count": null,
   "metadata": {
    "collapsed": true
   },
   "outputs": [],
   "source": []
  },
  {
   "cell_type": "code",
   "execution_count": null,
   "metadata": {
    "collapsed": true
   },
   "outputs": [],
   "source": []
  },
  {
   "cell_type": "markdown",
   "metadata": {},
   "source": [
    "# Step 3"
   ]
  },
  {
   "cell_type": "code",
   "execution_count": 40,
   "metadata": {
    "collapsed": true
   },
   "outputs": [],
   "source": [
    "# TODO: remove these, which just create dummy data\n",
    "# TODO: Fill in according to HW spec\n",
    "graph_sdf.createOrReplaceTempView('my_sdf')\n",
    "\n",
    "highest_indegree_sdf = spark.sql('SELECT to_node, COUNT(from_node) as Count_Answers from my_sdf group by to_node ORDER BY Count_answers DESC')\n",
    "highest_outdegree_sdf = spark.sql('SELECT from_node, COUNT(to_node) as Count_Answers from my_sdf group by from_node ORDER BY Count_answers DESC')\n"
   ]
  },
  {
   "cell_type": "code",
   "execution_count": null,
   "metadata": {
    "collapsed": true
   },
   "outputs": [],
   "source": []
  },
  {
   "cell_type": "markdown",
   "metadata": {},
   "source": [
    "## Step 3 Results"
   ]
  },
  {
   "cell_type": "code",
   "execution_count": 41,
   "metadata": {
    "collapsed": false
   },
   "outputs": [
    {
     "name": "stdout",
     "output_type": "stream",
     "text": [
      "+-------+-------------+\n",
      "|to_node|Count_Answers|\n",
      "+-------+-------------+\n",
      "|  22656|        93143|\n",
      "| 548225|        54410|\n",
      "|  29407|        45824|\n",
      "| 157882|        39576|\n",
      "|1144035|        38909|\n",
      "+-------+-------------+\n",
      "only showing top 5 rows\n",
      "\n"
     ]
    }
   ],
   "source": [
    "highest_indegree_sdf.show(5)"
   ]
  },
  {
   "cell_type": "code",
   "execution_count": 42,
   "metadata": {
    "collapsed": false
   },
   "outputs": [
    {
     "name": "stdout",
     "output_type": "stream",
     "text": [
      "+---------+-------------+\n",
      "|from_node|Count_Answers|\n",
      "+---------+-------------+\n",
      "|    22656|       101663|\n",
      "|   505088|        65522|\n",
      "|    17034|        65260|\n",
      "|  1491895|        62746|\n",
      "|   100297|        54330|\n",
      "+---------+-------------+\n",
      "only showing top 5 rows\n",
      "\n"
     ]
    }
   ],
   "source": [
    "highest_outdegree_sdf.show(5)"
   ]
  },
  {
   "cell_type": "markdown",
   "metadata": {},
   "source": [
    "## Step 4"
   ]
  },
  {
   "cell_type": "code",
   "execution_count": null,
   "metadata": {
    "collapsed": true
   },
   "outputs": [],
   "source": [
    "# TODO: insert code as you like\n",
    "comments_questions_sdf.show(20)"
   ]
  },
  {
   "cell_type": "code",
   "execution_count": 307,
   "metadata": {
    "collapsed": true
   },
   "outputs": [],
   "source": [
    "#\n",
    "# Step 4.1 Pre-processing\n",
    "#\n",
    "def spark_bfs(G, origins, max_depth):\n",
    "    \n",
    "    ##Your logic goes here\n",
    "    visited = []\n",
    "    results = []\n",
    "    origins = [(4550,0), (242,0)] \n",
    "    depth = 0\n",
    "    frontier = spark.createDataFrame(origins, ['node','depth'])\n",
    "    frontier = frontier.drop(frontier.depth)\n",
    "    visited = spark.createDataFrame(origins,['node','depth'])\n",
    "    while depth < max_depth:\n",
    "        frontier = frontier.distinct()\n",
    "        #depth += 1\n",
    "        G.createOrReplaceTempView(\"graph\")\n",
    "        frontier.createOrReplaceTempView(\"front\")\n",
    "        \n",
    "        connected = spark.sql('SELECT to_node as node1 from graph JOIN front ON graph.from_node = front.node')\n",
    "        \n",
    "        connected = connected.join(visited, col('node1') == col('node'), \"left_anti\")\n",
    "        connected = connected.join(frontier, col('node1') == col('node'), \"left_anti\")\n",
    "        \n",
    "        frontier = connected\n",
    "        connected = connected.withColumn(\"depth\", F.lit(depth+1))\n",
    "        \n",
    "        visited = visited.union(connected)\n",
    "        visited = visited.withColumnRenamed(\"node1\", \"node\")\n",
    "        frontier = frontier.withColumnRenamed(\"node1\", \"node\")\n",
    "        \n",
    "        \n",
    "        depth += 1\n",
    "    return visited"
   ]
  },
  {
   "cell_type": "code",
   "execution_count": null,
   "metadata": {
    "collapsed": true
   },
   "outputs": [],
   "source": []
  },
  {
   "cell_type": "code",
   "execution_count": null,
   "metadata": {
    "collapsed": true
   },
   "outputs": [],
   "source": []
  },
  {
   "cell_type": "code",
   "execution_count": null,
   "metadata": {
    "collapsed": true
   },
   "outputs": [],
   "source": []
  },
  {
   "cell_type": "code",
   "execution_count": null,
   "metadata": {
    "collapsed": true
   },
   "outputs": [],
   "source": []
  },
  {
   "cell_type": "code",
   "execution_count": null,
   "metadata": {
    "collapsed": true
   },
   "outputs": [],
   "source": []
  },
  {
   "cell_type": "code",
   "execution_count": null,
   "metadata": {
    "collapsed": true
   },
   "outputs": [],
   "source": []
  },
  {
   "cell_type": "code",
   "execution_count": null,
   "metadata": {
    "collapsed": true
   },
   "outputs": [],
   "source": []
  },
  {
   "cell_type": "code",
   "execution_count": 309,
   "metadata": {
    "collapsed": false
   },
   "outputs": [
    {
     "name": "stdout",
     "output_type": "stream",
     "text": [
      "root\n",
      " |-- node: long (nullable = true)\n",
      " |-- depth: long (nullable = true)\n",
      "\n"
     ]
    }
   ],
   "source": [
    "bfs_sdf.printSchema()"
   ]
  },
  {
   "cell_type": "markdown",
   "metadata": {},
   "source": [
    "## Step 4.1"
   ]
  },
  {
   "cell_type": "code",
   "execution_count": 308,
   "metadata": {
    "collapsed": false
   },
   "outputs": [
    {
     "data": {
      "text/plain": [
       "396"
      ]
     },
     "execution_count": 308,
     "metadata": {},
     "output_type": "execute_result"
    }
   ],
   "source": [
    "# TODO: comment out this line once your code is ready\n",
    "#bfs_sdf = spark.createDataFrame([{'node': 123, 'depth': 1}, {'node': 456, 'depth': 2}])\n",
    "\n",
    "# TODO: enable this once your code is ready\n",
    "origin_map = [{'node': 4550}, {'node': 242}]\n",
    "bfs_sdf = spark_bfs(comments_questions_sdf, origin_map, 2)\n",
    "bfs_sdf.count()"
   ]
  },
  {
   "cell_type": "code",
   "execution_count": 310,
   "metadata": {
    "collapsed": false
   },
   "outputs": [
    {
     "name": "stdout",
     "output_type": "stream",
     "text": [
      "+-------+-----+\n",
      "|   node|depth|\n",
      "+-------+-----+\n",
      "|   4550|    0|\n",
      "|    242|    0|\n",
      "|   1551|    1|\n",
      "|3047450|    1|\n",
      "|    184|    1|\n",
      "|3664405|    1|\n",
      "|4569974|    1|\n",
      "| 818089|    1|\n",
      "| 633513|    1|\n",
      "|  67719|    1|\n",
      "|4493776|    1|\n",
      "|1940564|    1|\n",
      "|1139389|    1|\n",
      "|2332659|    1|\n",
      "|5070920|    1|\n",
      "| 602291|    1|\n",
      "|5504881|    1|\n",
      "|1619254|    1|\n",
      "|2705465|    1|\n",
      "|  45459|    1|\n",
      "|3290688|    1|\n",
      "| 171136|    1|\n",
      "|3240545|    1|\n",
      "|2605058|    1|\n",
      "|4773326|    1|\n",
      "|2495819|    1|\n",
      "| 451383|    1|\n",
      "|1684384|    1|\n",
      "| 299990|    1|\n",
      "| 299990|    1|\n",
      "|1363420|    2|\n",
      "|4837375|    2|\n",
      "|   7850|    2|\n",
      "| 104015|    2|\n",
      "| 104015|    2|\n",
      "| 109859|    2|\n",
      "|4528671|    2|\n",
      "| 184262|    2|\n",
      "| 344398|    2|\n",
      "|2415802|    2|\n",
      "| 207020|    2|\n",
      "| 742030|    2|\n",
      "|4929435|    2|\n",
      "| 259579|    2|\n",
      "|  11194|    2|\n",
      "| 142468|    2|\n",
      "| 158297|    2|\n",
      "| 594423|    2|\n",
      "| 140937|    2|\n",
      "|3963201|    2|\n",
      "| 713813|    2|\n",
      "| 713813|    2|\n",
      "| 194574|    2|\n",
      "| 463561|    2|\n",
      "|  14101|    2|\n",
      "| 285193|    2|\n",
      "|  61145|    2|\n",
      "|  42595|    2|\n",
      "|4800193|    2|\n",
      "|4800193|    2|\n",
      "|  55503|    2|\n",
      "|  55503|    2|\n",
      "|  40077|    2|\n",
      "|  63203|    2|\n",
      "| 251386|    2|\n",
      "| 148366|    2|\n",
      "| 238419|    2|\n",
      "| 238419|    2|\n",
      "| 238419|    2|\n",
      "|  30055|    2|\n",
      "|3418949|    2|\n",
      "|  19207|    2|\n",
      "| 119331|    2|\n",
      "| 291806|    2|\n",
      "| 117700|    2|\n",
      "| 485985|    2|\n",
      "|1219414|    2|\n",
      "|   4653|    2|\n",
      "| 791332|    2|\n",
      "|4853102|    2|\n",
      "|   8047|    2|\n",
      "|  39036|    2|\n",
      "| 102427|    2|\n",
      "| 102427|    2|\n",
      "| 242079|    2|\n",
      "| 827302|    2|\n",
      "|4830869|    2|\n",
      "|  92876|    2|\n",
      "| 865505|    2|\n",
      "|1148973|    2|\n",
      "|  27483|    2|\n",
      "|  27483|    2|\n",
      "|3786023|    2|\n",
      "| 109000|    2|\n",
      "| 126237|    2|\n",
      "| 119699|    2|\n",
      "| 386471|    2|\n",
      "|1281194|    2|\n",
      "|2269511|    2|\n",
      "|2269511|    2|\n",
      "|  43365|    2|\n",
      "|1224605|    2|\n",
      "|4938776|    2|\n",
      "|  30594|    2|\n",
      "|  68183|    2|\n",
      "| 233186|    2|\n",
      "|  51816|    2|\n",
      "| 297787|    2|\n",
      "| 468708|    2|\n",
      "| 311660|    2|\n",
      "| 356282|    2|\n",
      "|4204628|    2|\n",
      "|4204628|    2|\n",
      "|3373505|    2|\n",
      "|4595831|    2|\n",
      "|4595831|    2|\n",
      "|  60602|    2|\n",
      "|  60602|    2|\n",
      "| 390354|    2|\n",
      "| 764272|    2|\n",
      "|1183150|    2|\n",
      "| 315823|    2|\n",
      "| 448131|    2|\n",
      "|  11581|    2|\n",
      "|  51518|    2|\n",
      "|  63775|    2|\n",
      "|  63775|    2|\n",
      "| 505338|    2|\n",
      "|    470|    2|\n",
      "|  95245|    2|\n",
      "| 324419|    2|\n",
      "| 390501|    2|\n",
      "|5051490|    2|\n",
      "| 295884|    2|\n",
      "| 931851|    2|\n",
      "| 138096|    2|\n",
      "| 542623|    2|\n",
      "|2050850|    2|\n",
      "| 158876|    2|\n",
      "| 505383|    2|\n",
      "|  24872|    2|\n",
      "|  24872|    2|\n",
      "| 261861|    2|\n",
      "| 910824|    2|\n",
      "|4785836|    2|\n",
      "|  68608|    2|\n",
      "| 316995|    2|\n",
      "|2147481|    2|\n",
      "| 253733|    2|\n",
      "| 262102|    2|\n",
      "| 495799|    2|\n",
      "| 203262|    2|\n",
      "|4459158|    2|\n",
      "|  30576|    2|\n",
      "|  77762|    2|\n",
      "| 139605|    2|\n",
      "| 139605|    2|\n",
      "| 285393|    2|\n",
      "|  41613|    2|\n",
      "|  64258|    2|\n",
      "| 189688|    2|\n",
      "| 238030|    2|\n",
      "|  23893|    2|\n",
      "|  49153|    2|\n",
      "|  60761|    2|\n",
      "|  60723|    2|\n",
      "|  69742|    2|\n",
      "| 110105|    2|\n",
      "|  47550|    2|\n",
      "|  47550|    2|\n",
      "| 132640|    2|\n",
      "| 132640|    2|\n",
      "| 132640|    2|\n",
      "| 132640|    2|\n",
      "|   5291|    2|\n",
      "|  20893|    2|\n",
      "| 185292|    2|\n",
      "| 377994|    2|\n",
      "|1406214|    2|\n",
      "|1406214|    2|\n",
      "| 230348|    2|\n",
      "|4394043|    2|\n",
      "|4769296|    2|\n",
      "|  97526|    2|\n",
      "| 318811|    2|\n",
      "| 318811|    2|\n",
      "|  21365|    2|\n",
      "|  54540|    2|\n",
      "|3565829|    2|\n",
      "|3565829|    2|\n",
      "|  85136|    2|\n",
      "| 379378|    2|\n",
      "| 506500|    2|\n",
      "| 529310|    2|\n",
      "| 282194|    2|\n",
      "| 282194|    2|\n",
      "|3065901|    2|\n",
      "|  64709|    2|\n",
      "| 485098|    2|\n",
      "|2528018|    2|\n",
      "| 140439|    2|\n",
      "| 546874|    2|\n",
      "|  76028|    2|\n",
      "|  76028|    2|\n",
      "|3804012|    2|\n",
      "|  65120|    2|\n",
      "|  65120|    2|\n",
      "| 109614|    2|\n",
      "| 397185|    2|\n",
      "| 397185|    2|\n",
      "|4481996|    2|\n",
      "|3830157|    2|\n",
      "|3830157|    2|\n",
      "| 129195|    2|\n",
      "| 357935|    2|\n",
      "| 808476|    2|\n",
      "|  59017|    2|\n",
      "|  59017|    2|\n",
      "| 199955|    2|\n",
      "| 462440|    2|\n",
      "|1710248|    2|\n",
      "|4853503|    2|\n",
      "|  18709|    2|\n",
      "|4899760|    2|\n",
      "|4899760|    2|\n",
      "|5384175|    2|\n",
      "| 186678|    2|\n",
      "|4279635|    2|\n",
      "| 333484|    2|\n",
      "| 439497|    2|\n",
      "| 805277|    2|\n",
      "| 148203|    2|\n",
      "| 100516|    2|\n",
      "|3548578|    2|\n",
      "|1218595|    2|\n",
      "|1218595|    2|\n",
      "|   8479|    2|\n",
      "|  46646|    2|\n",
      "|  46646|    2|\n",
      "|1894566|    2|\n",
      "|1894566|    2|\n",
      "|  73353|    2|\n",
      "| 147532|    2|\n",
      "| 393268|    2|\n",
      "| 393268|    2|\n",
      "|  19948|    2|\n",
      "| 151150|    2|\n",
      "| 900841|    2|\n",
      "| 117039|    2|\n",
      "|1038179|    2|\n",
      "|1038179|    2|\n",
      "|1038179|    2|\n",
      "|   6389|    2|\n",
      "|  46706|    2|\n",
      "| 213323|    2|\n",
      "| 292580|    2|\n",
      "| 503032|    2|\n",
      "| 503032|    2|\n",
      "| 982259|    2|\n",
      "| 168495|    2|\n",
      "| 428378|    2|\n",
      "|4988686|    2|\n",
      "| 322899|    2|\n",
      "|2516093|    2|\n",
      "|4740633|    2|\n",
      "|  48067|    2|\n",
      "|1882982|    2|\n",
      "|  39106|    2|\n",
      "|  71484|    2|\n",
      "|1127460|    2|\n",
      "|1127460|    2|\n",
      "|2098021|    2|\n",
      "| 290618|    2|\n",
      "| 331229|    2|\n",
      "| 361815|    2|\n",
      "|   1343|    2|\n",
      "| 211452|    2|\n",
      "| 211452|    2|\n",
      "| 211452|    2|\n",
      "| 290578|    2|\n",
      "|1888444|    2|\n",
      "|4633828|    2|\n",
      "|  63051|    2|\n",
      "| 356027|    2|\n",
      "|    356|    2|\n",
      "|  34397|    2|\n",
      "| 139917|    2|\n",
      "|1187554|    2|\n",
      "|1187554|    2|\n",
      "| 145682|    2|\n",
      "| 267679|    2|\n",
      "| 267679|    2|\n",
      "|4799879|    2|\n",
      "| 349100|    2|\n",
      "|1247602|    2|\n",
      "| 237363|    2|\n",
      "|  13338|    2|\n",
      "| 372991|    2|\n",
      "| 819436|    2|\n",
      "| 945170|    2|\n",
      "|2470384|    2|\n",
      "| 226394|    2|\n",
      "| 453447|    2|\n",
      "| 453447|    2|\n",
      "|3051801|    2|\n",
      "|  61299|    2|\n",
      "|  61299|    2|\n",
      "|  61299|    2|\n",
      "| 320724|    2|\n",
      "|1388553|    2|\n",
      "|2340444|    2|\n",
      "| 285465|    2|\n",
      "| 398173|    2|\n",
      "| 505983|    2|\n",
      "| 107421|    2|\n",
      "|  31671|    2|\n",
      "| 231465|    2|\n",
      "|  13913|    2|\n",
      "|  18308|    2|\n",
      "|1377781|    2|\n",
      "|5947929|    2|\n",
      "|5947929|    2|\n",
      "|5947929|    2|\n",
      "|  99344|    2|\n",
      "|  59637|    2|\n",
      "| 192801|    2|\n",
      "| 478823|    2|\n",
      "|   3396|    2|\n",
      "|  22423|    2|\n",
      "|  11236|    2|\n",
      "|2023861|    2|\n",
      "|  60096|    2|\n",
      "|1542333|    2|\n",
      "|3605016|    2|\n",
      "|  21918|    2|\n",
      "|  21918|    2|\n",
      "|  49695|    2|\n",
      "| 288574|    2|\n",
      "| 303940|    2|\n",
      "| 203175|    2|\n",
      "| 295265|    2|\n",
      "| 257558|    2|\n",
      "| 182717|    2|\n",
      "| 375766|    2|\n",
      "| 277375|    2|\n",
      "|  57698|    2|\n",
      "| 377419|    2|\n",
      "| 106435|    2|\n",
      "| 105177|    2|\n",
      "|    123|    2|\n",
      "| 279521|    2|\n",
      "| 295346|    2|\n",
      "|1498672|    2|\n",
      "|  41021|    2|\n",
      "| 178543|    2|\n",
      "| 447363|    2|\n",
      "|1385434|    2|\n",
      "|  30488|    2|\n",
      "| 170309|    2|\n",
      "|  32834|    2|\n",
      "| 301336|    2|\n",
      "|   7734|    2|\n",
      "| 830423|    2|\n",
      "| 830423|    2|\n",
      "| 830423|    2|\n",
      "|  94382|    2|\n",
      "|  11172|    2|\n",
      "| 198473|    2|\n",
      "|   2543|    2|\n",
      "|  52256|    2|\n",
      "| 136861|    2|\n",
      "| 113991|    2|\n",
      "| 135105|    2|\n",
      "|1970834|    2|\n",
      "| 378978|    2|\n",
      "| 243211|    2|\n",
      "|  17917|    2|\n",
      "|  63898|    2|\n",
      "| 207259|    2|\n",
      "|  17404|    2|\n",
      "|  29964|    2|\n",
      "| 251671|    2|\n",
      "|   1768|    2|\n",
      "| 185848|    2|\n",
      "| 163534|    2|\n",
      "|5018957|    2|\n",
      "|  47633|    2|\n",
      "|1061543|    2|\n",
      "|1061543|    2|\n",
      "|  37740|    2|\n",
      "| 115961|    2|\n",
      "| 166940|    2|\n",
      "|  68781|    2|\n",
      "| 111068|    2|\n",
      "| 373530|    2|\n",
      "|1195673|    2|\n",
      "+-------+-----+\n",
      "\n"
     ]
    }
   ],
   "source": [
    "# TODO: insert code as you like\n",
    "bfs_sdf.show(396)"
   ]
  },
  {
   "cell_type": "markdown",
   "metadata": {},
   "source": [
    "## Step 4.1 Results"
   ]
  },
  {
   "cell_type": "code",
   "execution_count": null,
   "metadata": {
    "collapsed": true
   },
   "outputs": [],
   "source": [
    "bfs_sdf.show(10)"
   ]
  },
  {
   "cell_type": "markdown",
   "metadata": {},
   "source": [
    "## Step 4.2"
   ]
  },
  {
   "cell_type": "code",
   "execution_count": 325,
   "metadata": {
    "collapsed": true
   },
   "outputs": [],
   "source": [
    "#\n",
    "# Step 4.2 Pre-processing\n",
    "#\n",
    "from itertools import product\n",
    "from collections import Counter\n",
    "bfs_sdf_vals = bfs_sdf.collect()\n",
    "\n",
    "def friend_rec(input_sdf, graph_sdf):\n",
    "    result = []\n",
    "    input_nodes = list(input_sdf.collect())\n",
    "    input_nodes = [ip[0] for ip in input_nodes]\n",
    "    for elem in input_nodes:\n",
    "        from_nodes = graph_sdf.select('from_node', 'to_node').where(graph_sdf.from_node == elem)\n",
    "        temp = list(from_nodes.select('to_node').collect())\n",
    "        temp = [i[0] for i in temp]\n",
    "        for item in input_nodes:\n",
    "            if item not in temp and item != elem:\n",
    "                result.append((elem, item))\n",
    "    \n",
    "    friend_recommendations_sdf = spark.createDataFrame(result, ['node1', 'node2'])\n",
    "    return friend_recommendations_sdf"
   ]
  },
  {
   "cell_type": "code",
   "execution_count": 332,
   "metadata": {
    "collapsed": true
   },
   "outputs": [],
   "source": [
    "# TODO: insert code as you like\n"
   ]
  },
  {
   "cell_type": "code",
   "execution_count": 326,
   "metadata": {
    "collapsed": false
   },
   "outputs": [
    {
     "data": {
      "text/plain": [
       "1721"
      ]
     },
     "execution_count": 326,
     "metadata": {},
     "output_type": "execute_result"
    }
   ],
   "source": [
    "# TODO: comment this line out when your function works\n",
    "from collections import Counter\n",
    "\n",
    "depth_two = bfs_sdf.select('node').where('depth == 2').groupby('node').count()\n",
    "#print(depth_two.count())\n",
    "filtered_bfs_sdf = depth_two.select('node').where('count > 1')\n",
    "filtered_bfs_sdf.drop('count')\n",
    "\n",
    "friend_recommendations_sdf = friend_rec(filtered_bfs_sdf, comments_questions_sdf)\n",
    "friend_recommendations_sdf.count()\n",
    "#filtered_bfs_sdf.printSchema()"
   ]
  },
  {
   "cell_type": "code",
   "execution_count": 331,
   "metadata": {
    "collapsed": false
   },
   "outputs": [
    {
     "data": {
      "text/plain": [
       "42"
      ]
     },
     "execution_count": 331,
     "metadata": {},
     "output_type": "execute_result"
    }
   ],
   "source": [
    "filtered_bfs_sdf.count()"
   ]
  },
  {
   "cell_type": "code",
   "execution_count": null,
   "metadata": {
    "collapsed": true
   },
   "outputs": [],
   "source": []
  },
  {
   "cell_type": "markdown",
   "metadata": {},
   "source": [
    "## Step 4.2 Results"
   ]
  },
  {
   "cell_type": "code",
   "execution_count": 330,
   "metadata": {
    "collapsed": false
   },
   "outputs": [
    {
     "name": "stdout",
     "output_type": "stream",
     "text": [
      "+-------+-------+\n",
      "|  node1|  node2|\n",
      "+-------+-------+\n",
      "|1127460|  27483|\n",
      "|1127460|  63775|\n",
      "|1127460|  60602|\n",
      "|1127460|2269511|\n",
      "|1127460|  65120|\n",
      "|1127460|1061543|\n",
      "|1127460|  46646|\n",
      "|1127460| 830423|\n",
      "|1127460|4204628|\n",
      "|1127460|  24872|\n",
      "|1127460| 318811|\n",
      "|1127460|1894566|\n",
      "|1127460| 211452|\n",
      "|1127460|  55503|\n",
      "|1127460| 132640|\n",
      "|1127460| 267679|\n",
      "|1127460| 238419|\n",
      "|1127460|  59017|\n",
      "|1127460|1187554|\n",
      "|1127460| 282194|\n",
      "|1127460| 102427|\n",
      "|1127460| 393268|\n",
      "|1127460|5947929|\n",
      "|1127460| 503032|\n",
      "|1127460|1218595|\n",
      "|1127460|  76028|\n",
      "|1127460| 397185|\n",
      "|1127460| 104015|\n",
      "|1127460| 713813|\n",
      "|1127460|  61299|\n",
      "|1127460|  21918|\n",
      "|1127460|3830157|\n",
      "|1127460|1406214|\n",
      "|1127460|4595831|\n",
      "|1127460| 139605|\n",
      "|1127460|1038179|\n",
      "|1127460|4899760|\n",
      "|1127460|4800193|\n",
      "|1127460|  47550|\n",
      "|1127460| 453447|\n",
      "|1127460|3565829|\n",
      "|  27483|1127460|\n",
      "|  27483|  63775|\n",
      "|  27483|  60602|\n",
      "|  27483|2269511|\n",
      "|  27483|  65120|\n",
      "|  27483|1061543|\n",
      "|  27483|  46646|\n",
      "|  27483| 830423|\n",
      "|  27483|4204628|\n",
      "|  27483|  24872|\n",
      "|  27483| 318811|\n",
      "|  27483|1894566|\n",
      "|  27483| 211452|\n",
      "|  27483|  55503|\n",
      "|  27483| 132640|\n",
      "|  27483| 267679|\n",
      "|  27483| 238419|\n",
      "|  27483|  59017|\n",
      "|  27483|1187554|\n",
      "|  27483| 282194|\n",
      "|  27483| 102427|\n",
      "|  27483| 393268|\n",
      "|  27483|5947929|\n",
      "|  27483| 503032|\n",
      "|  27483|1218595|\n",
      "|  27483|  76028|\n",
      "|  27483| 397185|\n",
      "|  27483| 104015|\n",
      "|  27483| 713813|\n",
      "|  27483|  61299|\n",
      "|  27483|  21918|\n",
      "|  27483|3830157|\n",
      "|  27483|1406214|\n",
      "|  27483|4595831|\n",
      "|  27483| 139605|\n",
      "|  27483|1038179|\n",
      "|  27483|4899760|\n",
      "|  27483|4800193|\n",
      "|  27483|  47550|\n",
      "|  27483| 453447|\n",
      "|  27483|3565829|\n",
      "|  63775|1127460|\n",
      "|  63775|  27483|\n",
      "|  63775|  60602|\n",
      "|  63775|2269511|\n",
      "|  63775|  65120|\n",
      "|  63775|1061543|\n",
      "|  63775|  46646|\n",
      "|  63775| 830423|\n",
      "|  63775|4204628|\n",
      "|  63775|  24872|\n",
      "|  63775| 318811|\n",
      "|  63775|1894566|\n",
      "|  63775| 211452|\n",
      "|  63775|  55503|\n",
      "|  63775| 132640|\n",
      "|  63775| 267679|\n",
      "|  63775| 238419|\n",
      "|  63775|  59017|\n",
      "|  63775|1187554|\n",
      "|  63775| 282194|\n",
      "|  63775| 102427|\n",
      "|  63775| 393268|\n",
      "|  63775|5947929|\n",
      "|  63775| 503032|\n",
      "|  63775|1218595|\n",
      "|  63775|  76028|\n",
      "|  63775| 397185|\n",
      "|  63775| 104015|\n",
      "|  63775| 713813|\n",
      "|  63775|  61299|\n",
      "|  63775|  21918|\n",
      "|  63775|3830157|\n",
      "|  63775|1406214|\n",
      "|  63775|4595831|\n",
      "|  63775| 139605|\n",
      "|  63775|1038179|\n",
      "|  63775|4899760|\n",
      "|  63775|4800193|\n",
      "|  63775|  47550|\n",
      "|  63775| 453447|\n",
      "|  63775|3565829|\n",
      "|  60602|1127460|\n",
      "|  60602|  27483|\n",
      "|  60602|  63775|\n",
      "|  60602|2269511|\n",
      "|  60602|  65120|\n",
      "|  60602|1061543|\n",
      "|  60602|  46646|\n",
      "|  60602| 830423|\n",
      "|  60602|4204628|\n",
      "|  60602|  24872|\n",
      "|  60602| 318811|\n",
      "|  60602|1894566|\n",
      "|  60602| 211452|\n",
      "|  60602|  55503|\n",
      "|  60602| 132640|\n",
      "|  60602| 267679|\n",
      "|  60602| 238419|\n",
      "|  60602|  59017|\n",
      "|  60602|1187554|\n",
      "|  60602| 282194|\n",
      "|  60602| 102427|\n",
      "|  60602| 393268|\n",
      "|  60602|5947929|\n",
      "|  60602| 503032|\n",
      "|  60602|1218595|\n",
      "|  60602|  76028|\n",
      "|  60602| 397185|\n",
      "|  60602| 104015|\n",
      "|  60602| 713813|\n",
      "|  60602|  61299|\n",
      "|  60602|  21918|\n",
      "|  60602|3830157|\n",
      "|  60602|1406214|\n",
      "|  60602|4595831|\n",
      "|  60602| 139605|\n",
      "|  60602|1038179|\n",
      "|  60602|4899760|\n",
      "|  60602|4800193|\n",
      "|  60602|  47550|\n",
      "|  60602| 453447|\n",
      "|  60602|3565829|\n",
      "|2269511|1127460|\n",
      "|2269511|  27483|\n",
      "|2269511|  63775|\n",
      "|2269511|  60602|\n",
      "|2269511|  65120|\n",
      "|2269511|1061543|\n",
      "|2269511|  46646|\n",
      "|2269511| 830423|\n",
      "|2269511|4204628|\n",
      "|2269511|  24872|\n",
      "|2269511| 318811|\n",
      "|2269511|1894566|\n",
      "|2269511| 211452|\n",
      "|2269511|  55503|\n",
      "|2269511| 132640|\n",
      "|2269511| 267679|\n",
      "|2269511| 238419|\n",
      "|2269511|  59017|\n",
      "|2269511|1187554|\n",
      "|2269511| 282194|\n",
      "|2269511| 102427|\n",
      "|2269511| 393268|\n",
      "|2269511|5947929|\n",
      "|2269511| 503032|\n",
      "|2269511|1218595|\n",
      "|2269511|  76028|\n",
      "|2269511| 397185|\n",
      "|2269511| 104015|\n",
      "|2269511| 713813|\n",
      "|2269511|  61299|\n",
      "|2269511|  21918|\n",
      "|2269511|3830157|\n",
      "|2269511|1406214|\n",
      "|2269511|4595831|\n",
      "|2269511| 139605|\n",
      "|2269511|1038179|\n",
      "|2269511|4899760|\n",
      "|2269511|4800193|\n",
      "|2269511|  47550|\n",
      "|2269511| 453447|\n",
      "|2269511|3565829|\n",
      "|  65120|1127460|\n",
      "|  65120|  27483|\n",
      "|  65120|  63775|\n",
      "|  65120|  60602|\n",
      "|  65120|2269511|\n",
      "|  65120|1061543|\n",
      "|  65120|  46646|\n",
      "|  65120| 830423|\n",
      "|  65120|4204628|\n",
      "|  65120|  24872|\n",
      "|  65120| 318811|\n",
      "|  65120|1894566|\n",
      "|  65120| 211452|\n",
      "|  65120|  55503|\n",
      "|  65120| 132640|\n",
      "|  65120| 267679|\n",
      "|  65120| 238419|\n",
      "|  65120|  59017|\n",
      "|  65120|1187554|\n",
      "|  65120| 282194|\n",
      "|  65120| 102427|\n",
      "|  65120| 393268|\n",
      "|  65120|5947929|\n",
      "|  65120| 503032|\n",
      "|  65120|1218595|\n",
      "|  65120|  76028|\n",
      "|  65120| 397185|\n",
      "|  65120| 104015|\n",
      "|  65120| 713813|\n",
      "|  65120|  61299|\n",
      "|  65120|  21918|\n",
      "|  65120|3830157|\n",
      "|  65120|1406214|\n",
      "|  65120|4595831|\n",
      "|  65120| 139605|\n",
      "|  65120|1038179|\n",
      "|  65120|4899760|\n",
      "|  65120|4800193|\n",
      "|  65120|  47550|\n",
      "|  65120| 453447|\n",
      "|  65120|3565829|\n",
      "|1061543|1127460|\n",
      "|1061543|  27483|\n",
      "|1061543|  63775|\n",
      "|1061543|  60602|\n",
      "|1061543|2269511|\n",
      "|1061543|  65120|\n",
      "|1061543|  46646|\n",
      "|1061543| 830423|\n",
      "|1061543|4204628|\n",
      "|1061543|  24872|\n",
      "|1061543| 318811|\n",
      "|1061543|1894566|\n",
      "|1061543| 211452|\n",
      "|1061543|  55503|\n",
      "|1061543| 132640|\n",
      "|1061543| 267679|\n",
      "|1061543| 238419|\n",
      "|1061543|  59017|\n",
      "|1061543|1187554|\n",
      "|1061543| 282194|\n",
      "|1061543| 102427|\n",
      "|1061543| 393268|\n",
      "|1061543|5947929|\n",
      "|1061543| 503032|\n",
      "|1061543|1218595|\n",
      "|1061543|  76028|\n",
      "|1061543| 397185|\n",
      "|1061543| 104015|\n",
      "|1061543| 713813|\n",
      "|1061543|  61299|\n",
      "|1061543|  21918|\n",
      "|1061543|3830157|\n",
      "|1061543|1406214|\n",
      "|1061543|4595831|\n",
      "|1061543| 139605|\n",
      "|1061543|1038179|\n",
      "|1061543|4899760|\n",
      "|1061543|4800193|\n",
      "|1061543|  47550|\n",
      "|1061543| 453447|\n",
      "|1061543|3565829|\n",
      "|  46646|1127460|\n",
      "|  46646|  27483|\n",
      "|  46646|  63775|\n",
      "|  46646|  60602|\n",
      "|  46646|2269511|\n",
      "|  46646|  65120|\n",
      "|  46646|1061543|\n",
      "|  46646| 830423|\n",
      "|  46646|4204628|\n",
      "|  46646|  24872|\n",
      "|  46646| 318811|\n",
      "|  46646|1894566|\n",
      "|  46646| 211452|\n",
      "|  46646|  55503|\n",
      "|  46646| 132640|\n",
      "|  46646| 267679|\n",
      "|  46646| 238419|\n",
      "|  46646|  59017|\n",
      "|  46646|1187554|\n",
      "|  46646| 282194|\n",
      "|  46646| 102427|\n",
      "|  46646| 393268|\n",
      "|  46646|5947929|\n",
      "|  46646| 503032|\n",
      "|  46646|1218595|\n",
      "|  46646|  76028|\n",
      "|  46646| 397185|\n",
      "|  46646| 104015|\n",
      "|  46646| 713813|\n",
      "|  46646|  61299|\n",
      "|  46646|  21918|\n",
      "|  46646|3830157|\n",
      "|  46646|1406214|\n",
      "|  46646|4595831|\n",
      "|  46646| 139605|\n",
      "|  46646|1038179|\n",
      "|  46646|4899760|\n",
      "|  46646|4800193|\n",
      "|  46646|  47550|\n",
      "|  46646| 453447|\n",
      "|  46646|3565829|\n",
      "| 830423|1127460|\n",
      "| 830423|  27483|\n",
      "| 830423|  63775|\n",
      "| 830423|  60602|\n",
      "| 830423|2269511|\n",
      "| 830423|  65120|\n",
      "| 830423|1061543|\n",
      "| 830423|  46646|\n",
      "| 830423|4204628|\n",
      "| 830423|  24872|\n",
      "| 830423| 318811|\n",
      "| 830423|1894566|\n",
      "| 830423| 211452|\n",
      "| 830423|  55503|\n",
      "| 830423| 132640|\n",
      "| 830423| 267679|\n",
      "| 830423| 238419|\n",
      "| 830423|  59017|\n",
      "| 830423|1187554|\n",
      "| 830423| 282194|\n",
      "| 830423| 102427|\n",
      "| 830423| 393268|\n",
      "| 830423|5947929|\n",
      "| 830423| 503032|\n",
      "| 830423|1218595|\n",
      "| 830423|  76028|\n",
      "| 830423| 397185|\n",
      "| 830423| 104015|\n",
      "| 830423| 713813|\n",
      "| 830423|  61299|\n",
      "| 830423|  21918|\n",
      "| 830423|3830157|\n",
      "| 830423|1406214|\n",
      "| 830423|4595831|\n",
      "| 830423| 139605|\n",
      "| 830423|1038179|\n",
      "| 830423|4899760|\n",
      "| 830423|4800193|\n",
      "| 830423|  47550|\n",
      "| 830423| 453447|\n",
      "| 830423|3565829|\n",
      "|4204628|1127460|\n",
      "|4204628|  27483|\n",
      "|4204628|  63775|\n",
      "|4204628|  60602|\n",
      "|4204628|2269511|\n",
      "|4204628|  65120|\n",
      "|4204628|1061543|\n",
      "|4204628|  46646|\n",
      "|4204628| 830423|\n",
      "|4204628|  24872|\n",
      "|4204628| 318811|\n",
      "|4204628|1894566|\n",
      "|4204628| 211452|\n",
      "|4204628|  55503|\n",
      "|4204628| 132640|\n",
      "|4204628| 267679|\n",
      "|4204628| 238419|\n",
      "|4204628|  59017|\n",
      "|4204628|1187554|\n",
      "|4204628| 282194|\n",
      "|4204628| 102427|\n",
      "|4204628| 393268|\n",
      "|4204628|5947929|\n",
      "|4204628| 503032|\n",
      "|4204628|1218595|\n",
      "|4204628|  76028|\n",
      "|4204628| 397185|\n",
      "|4204628| 104015|\n",
      "|4204628| 713813|\n",
      "|4204628|  61299|\n",
      "|4204628|  21918|\n",
      "|4204628|3830157|\n",
      "|4204628|1406214|\n",
      "|4204628|4595831|\n",
      "|4204628| 139605|\n",
      "|4204628|1038179|\n",
      "|4204628|4899760|\n",
      "|4204628|4800193|\n",
      "|4204628|  47550|\n",
      "|4204628| 453447|\n",
      "|4204628|3565829|\n",
      "|  24872|1127460|\n",
      "|  24872|  27483|\n",
      "|  24872|  63775|\n",
      "|  24872|  60602|\n",
      "|  24872|2269511|\n",
      "|  24872|  65120|\n",
      "|  24872|1061543|\n",
      "|  24872|  46646|\n",
      "|  24872| 830423|\n",
      "|  24872|4204628|\n",
      "|  24872| 318811|\n",
      "|  24872|1894566|\n",
      "|  24872| 211452|\n",
      "|  24872|  55503|\n",
      "|  24872| 132640|\n",
      "|  24872| 267679|\n",
      "|  24872| 238419|\n",
      "|  24872|  59017|\n",
      "|  24872|1187554|\n",
      "|  24872| 282194|\n",
      "|  24872| 102427|\n",
      "|  24872| 393268|\n",
      "|  24872|5947929|\n",
      "|  24872| 503032|\n",
      "|  24872|1218595|\n",
      "|  24872|  76028|\n",
      "|  24872| 397185|\n",
      "|  24872| 104015|\n",
      "|  24872| 713813|\n",
      "|  24872|  61299|\n",
      "|  24872|  21918|\n",
      "|  24872|3830157|\n",
      "|  24872|1406214|\n",
      "|  24872|4595831|\n",
      "|  24872| 139605|\n",
      "|  24872|1038179|\n",
      "|  24872|4899760|\n",
      "|  24872|4800193|\n",
      "|  24872|  47550|\n",
      "|  24872| 453447|\n",
      "|  24872|3565829|\n",
      "| 318811|1127460|\n",
      "| 318811|  27483|\n",
      "| 318811|  63775|\n",
      "| 318811|  60602|\n",
      "| 318811|2269511|\n",
      "| 318811|  65120|\n",
      "| 318811|1061543|\n",
      "| 318811|  46646|\n",
      "| 318811| 830423|\n",
      "| 318811|4204628|\n",
      "| 318811|  24872|\n",
      "| 318811|1894566|\n",
      "| 318811| 211452|\n",
      "| 318811|  55503|\n",
      "| 318811| 132640|\n",
      "| 318811| 267679|\n",
      "| 318811| 238419|\n",
      "| 318811|  59017|\n",
      "| 318811|1187554|\n",
      "| 318811| 282194|\n",
      "| 318811| 102427|\n",
      "| 318811| 393268|\n",
      "| 318811|5947929|\n",
      "| 318811| 503032|\n",
      "| 318811|1218595|\n",
      "| 318811|  76028|\n",
      "| 318811| 397185|\n",
      "| 318811| 104015|\n",
      "| 318811| 713813|\n",
      "| 318811|  61299|\n",
      "| 318811|  21918|\n",
      "| 318811|3830157|\n",
      "| 318811|1406214|\n",
      "| 318811|4595831|\n",
      "| 318811| 139605|\n",
      "| 318811|1038179|\n",
      "| 318811|4899760|\n",
      "| 318811|4800193|\n",
      "| 318811|  47550|\n",
      "| 318811| 453447|\n",
      "| 318811|3565829|\n",
      "|1894566|1127460|\n",
      "|1894566|  27483|\n",
      "|1894566|  63775|\n",
      "|1894566|  60602|\n",
      "|1894566|2269511|\n",
      "|1894566|  65120|\n",
      "|1894566|1061543|\n",
      "|1894566|  46646|\n",
      "|1894566| 830423|\n",
      "|1894566|4204628|\n",
      "|1894566|  24872|\n",
      "|1894566| 318811|\n",
      "|1894566| 211452|\n",
      "|1894566|  55503|\n",
      "|1894566| 132640|\n",
      "|1894566| 267679|\n",
      "|1894566| 238419|\n",
      "|1894566|  59017|\n",
      "|1894566|1187554|\n",
      "|1894566| 282194|\n",
      "|1894566| 102427|\n",
      "|1894566| 393268|\n",
      "|1894566|5947929|\n",
      "|1894566| 503032|\n",
      "|1894566|1218595|\n",
      "|1894566|  76028|\n",
      "|1894566| 397185|\n",
      "|1894566| 104015|\n",
      "|1894566| 713813|\n",
      "|1894566|  61299|\n",
      "|1894566|  21918|\n",
      "|1894566|3830157|\n",
      "|1894566|1406214|\n",
      "|1894566|4595831|\n",
      "|1894566| 139605|\n",
      "|1894566|1038179|\n",
      "|1894566|4899760|\n",
      "|1894566|4800193|\n",
      "|1894566|  47550|\n",
      "|1894566| 453447|\n",
      "|1894566|3565829|\n",
      "| 211452|1127460|\n",
      "| 211452|  27483|\n",
      "| 211452|  63775|\n",
      "| 211452|  60602|\n",
      "| 211452|2269511|\n",
      "| 211452|  65120|\n",
      "| 211452|1061543|\n",
      "| 211452|  46646|\n",
      "| 211452| 830423|\n",
      "| 211452|4204628|\n",
      "| 211452|  24872|\n",
      "| 211452| 318811|\n",
      "| 211452|1894566|\n",
      "| 211452|  55503|\n",
      "| 211452| 132640|\n",
      "| 211452| 267679|\n",
      "| 211452| 238419|\n",
      "| 211452|  59017|\n",
      "| 211452|1187554|\n",
      "| 211452| 282194|\n",
      "| 211452| 102427|\n",
      "| 211452| 393268|\n",
      "| 211452|5947929|\n",
      "| 211452| 503032|\n",
      "| 211452|1218595|\n",
      "| 211452|  76028|\n",
      "| 211452| 397185|\n",
      "| 211452| 104015|\n",
      "| 211452| 713813|\n",
      "| 211452|  61299|\n",
      "| 211452|  21918|\n",
      "| 211452|3830157|\n",
      "| 211452|1406214|\n",
      "| 211452|4595831|\n",
      "| 211452| 139605|\n",
      "| 211452|1038179|\n",
      "| 211452|4899760|\n",
      "| 211452|4800193|\n",
      "| 211452|  47550|\n",
      "| 211452| 453447|\n",
      "| 211452|3565829|\n",
      "|  55503|1127460|\n",
      "|  55503|  27483|\n",
      "|  55503|  63775|\n",
      "|  55503|  60602|\n",
      "|  55503|2269511|\n",
      "|  55503|  65120|\n",
      "|  55503|1061543|\n",
      "|  55503|  46646|\n",
      "|  55503| 830423|\n",
      "|  55503|4204628|\n",
      "|  55503|  24872|\n",
      "|  55503| 318811|\n",
      "|  55503|1894566|\n",
      "|  55503| 211452|\n",
      "|  55503| 132640|\n",
      "|  55503| 267679|\n",
      "|  55503| 238419|\n",
      "|  55503|  59017|\n",
      "|  55503|1187554|\n",
      "|  55503| 282194|\n",
      "|  55503| 102427|\n",
      "|  55503| 393268|\n",
      "|  55503|5947929|\n",
      "|  55503| 503032|\n",
      "|  55503|1218595|\n",
      "|  55503|  76028|\n",
      "|  55503| 397185|\n",
      "|  55503| 104015|\n",
      "|  55503| 713813|\n",
      "|  55503|  61299|\n",
      "|  55503|  21918|\n",
      "|  55503|3830157|\n",
      "|  55503|1406214|\n",
      "|  55503|4595831|\n",
      "|  55503| 139605|\n",
      "|  55503|1038179|\n",
      "|  55503|4899760|\n",
      "|  55503|4800193|\n",
      "|  55503|  47550|\n",
      "|  55503| 453447|\n",
      "|  55503|3565829|\n",
      "| 132640|1127460|\n",
      "| 132640|  27483|\n",
      "| 132640|  63775|\n",
      "| 132640|  60602|\n",
      "| 132640|2269511|\n",
      "| 132640|  65120|\n",
      "| 132640|1061543|\n",
      "| 132640|  46646|\n",
      "| 132640| 830423|\n",
      "| 132640|4204628|\n",
      "| 132640|  24872|\n",
      "| 132640| 318811|\n",
      "| 132640|1894566|\n",
      "| 132640| 211452|\n",
      "| 132640|  55503|\n",
      "| 132640| 267679|\n",
      "| 132640| 238419|\n",
      "| 132640|  59017|\n",
      "| 132640|1187554|\n",
      "| 132640| 282194|\n",
      "| 132640| 102427|\n",
      "| 132640| 393268|\n",
      "| 132640|5947929|\n",
      "| 132640| 503032|\n",
      "| 132640|1218595|\n",
      "| 132640|  76028|\n",
      "| 132640| 397185|\n",
      "| 132640| 104015|\n",
      "| 132640| 713813|\n",
      "| 132640|  61299|\n",
      "| 132640|  21918|\n",
      "| 132640|3830157|\n",
      "| 132640|1406214|\n",
      "| 132640|4595831|\n",
      "| 132640| 139605|\n",
      "| 132640|1038179|\n",
      "| 132640|4899760|\n",
      "| 132640|4800193|\n",
      "| 132640|  47550|\n",
      "| 132640| 453447|\n",
      "| 132640|3565829|\n",
      "| 267679|1127460|\n",
      "| 267679|  27483|\n",
      "| 267679|  63775|\n",
      "| 267679|  60602|\n",
      "| 267679|2269511|\n",
      "| 267679|  65120|\n",
      "| 267679|1061543|\n",
      "| 267679|  46646|\n",
      "| 267679| 830423|\n",
      "| 267679|4204628|\n",
      "| 267679|  24872|\n",
      "| 267679| 318811|\n",
      "| 267679|1894566|\n",
      "| 267679| 211452|\n",
      "| 267679|  55503|\n",
      "| 267679| 132640|\n",
      "| 267679| 238419|\n",
      "| 267679|  59017|\n",
      "| 267679|1187554|\n",
      "| 267679| 282194|\n",
      "| 267679| 102427|\n",
      "| 267679| 393268|\n",
      "| 267679|5947929|\n",
      "| 267679| 503032|\n",
      "| 267679|1218595|\n",
      "| 267679|  76028|\n",
      "| 267679| 397185|\n",
      "| 267679| 104015|\n",
      "| 267679| 713813|\n",
      "| 267679|  61299|\n",
      "| 267679|  21918|\n",
      "| 267679|3830157|\n",
      "| 267679|1406214|\n",
      "| 267679|4595831|\n",
      "| 267679| 139605|\n",
      "| 267679|1038179|\n",
      "| 267679|4899760|\n",
      "| 267679|4800193|\n",
      "| 267679|  47550|\n",
      "| 267679| 453447|\n",
      "| 267679|3565829|\n",
      "| 238419|1127460|\n",
      "| 238419|  27483|\n",
      "| 238419|  63775|\n",
      "| 238419|  60602|\n",
      "| 238419|2269511|\n",
      "| 238419|  65120|\n",
      "| 238419|1061543|\n",
      "| 238419|  46646|\n",
      "| 238419| 830423|\n",
      "| 238419|4204628|\n",
      "| 238419|  24872|\n",
      "| 238419| 318811|\n",
      "| 238419|1894566|\n",
      "| 238419| 211452|\n",
      "| 238419|  55503|\n",
      "| 238419| 132640|\n",
      "| 238419| 267679|\n",
      "| 238419|  59017|\n",
      "| 238419|1187554|\n",
      "| 238419| 282194|\n",
      "| 238419| 102427|\n",
      "| 238419| 393268|\n",
      "| 238419|5947929|\n",
      "| 238419| 503032|\n",
      "| 238419|1218595|\n",
      "| 238419|  76028|\n",
      "| 238419| 397185|\n",
      "| 238419| 104015|\n",
      "| 238419| 713813|\n",
      "| 238419|  61299|\n",
      "| 238419|  21918|\n",
      "| 238419|3830157|\n",
      "| 238419|1406214|\n",
      "| 238419|4595831|\n",
      "| 238419| 139605|\n",
      "| 238419|1038179|\n",
      "| 238419|4899760|\n",
      "| 238419|4800193|\n",
      "| 238419| 453447|\n",
      "| 238419|3565829|\n",
      "|  59017|1127460|\n",
      "|  59017|  27483|\n",
      "|  59017|  63775|\n",
      "|  59017|  60602|\n",
      "|  59017|2269511|\n",
      "|  59017|  65120|\n",
      "|  59017|1061543|\n",
      "|  59017|  46646|\n",
      "|  59017| 830423|\n",
      "|  59017|4204628|\n",
      "|  59017|  24872|\n",
      "|  59017| 318811|\n",
      "|  59017|1894566|\n",
      "|  59017| 211452|\n",
      "|  59017|  55503|\n",
      "|  59017| 132640|\n",
      "|  59017| 267679|\n",
      "|  59017| 238419|\n",
      "|  59017|1187554|\n",
      "|  59017| 282194|\n",
      "|  59017| 102427|\n",
      "|  59017| 393268|\n",
      "|  59017|5947929|\n",
      "|  59017| 503032|\n",
      "|  59017|1218595|\n",
      "|  59017|  76028|\n",
      "|  59017| 397185|\n",
      "|  59017| 104015|\n",
      "|  59017| 713813|\n",
      "|  59017|  61299|\n",
      "|  59017|  21918|\n",
      "|  59017|3830157|\n",
      "|  59017|1406214|\n",
      "|  59017|4595831|\n",
      "|  59017| 139605|\n",
      "|  59017|1038179|\n",
      "|  59017|4899760|\n",
      "|  59017|4800193|\n",
      "|  59017|  47550|\n",
      "|  59017| 453447|\n",
      "|  59017|3565829|\n",
      "|1187554|1127460|\n",
      "|1187554|  27483|\n",
      "|1187554|  63775|\n",
      "|1187554|  60602|\n",
      "|1187554|2269511|\n",
      "|1187554|  65120|\n",
      "|1187554|1061543|\n",
      "|1187554|  46646|\n",
      "|1187554| 830423|\n",
      "|1187554|4204628|\n",
      "|1187554|  24872|\n",
      "|1187554| 318811|\n",
      "|1187554|1894566|\n",
      "|1187554| 211452|\n",
      "|1187554|  55503|\n",
      "|1187554| 132640|\n",
      "|1187554| 267679|\n",
      "|1187554| 238419|\n",
      "|1187554|  59017|\n",
      "|1187554| 282194|\n",
      "|1187554| 102427|\n",
      "|1187554| 393268|\n",
      "|1187554|5947929|\n",
      "|1187554| 503032|\n",
      "|1187554|1218595|\n",
      "|1187554|  76028|\n",
      "|1187554| 397185|\n",
      "|1187554| 104015|\n",
      "|1187554| 713813|\n",
      "|1187554|  61299|\n",
      "|1187554|  21918|\n",
      "|1187554|3830157|\n",
      "|1187554|1406214|\n",
      "|1187554|4595831|\n",
      "|1187554| 139605|\n",
      "|1187554|1038179|\n",
      "|1187554|4899760|\n",
      "|1187554|4800193|\n",
      "|1187554|  47550|\n",
      "|1187554| 453447|\n",
      "|1187554|3565829|\n",
      "| 282194|1127460|\n",
      "| 282194|  27483|\n",
      "| 282194|  63775|\n",
      "| 282194|  60602|\n",
      "| 282194|2269511|\n",
      "| 282194|  65120|\n",
      "| 282194|1061543|\n",
      "| 282194|  46646|\n",
      "| 282194| 830423|\n",
      "| 282194|4204628|\n",
      "| 282194|  24872|\n",
      "| 282194| 318811|\n",
      "| 282194|1894566|\n",
      "| 282194| 211452|\n",
      "| 282194|  55503|\n",
      "| 282194| 132640|\n",
      "| 282194| 267679|\n",
      "| 282194| 238419|\n",
      "| 282194|  59017|\n",
      "| 282194|1187554|\n",
      "| 282194| 102427|\n",
      "| 282194| 393268|\n",
      "| 282194|5947929|\n",
      "| 282194| 503032|\n",
      "| 282194|1218595|\n",
      "| 282194|  76028|\n",
      "| 282194| 397185|\n",
      "| 282194| 104015|\n",
      "| 282194| 713813|\n",
      "| 282194|  61299|\n",
      "| 282194|  21918|\n",
      "| 282194|3830157|\n",
      "| 282194|1406214|\n",
      "| 282194|4595831|\n",
      "| 282194| 139605|\n",
      "| 282194|1038179|\n",
      "| 282194|4899760|\n",
      "| 282194|4800193|\n",
      "| 282194|  47550|\n",
      "| 282194| 453447|\n",
      "| 282194|3565829|\n",
      "| 102427|1127460|\n",
      "| 102427|  27483|\n",
      "| 102427|  63775|\n",
      "| 102427|  60602|\n",
      "| 102427|2269511|\n",
      "| 102427|  65120|\n",
      "| 102427|1061543|\n",
      "| 102427|  46646|\n",
      "| 102427| 830423|\n",
      "| 102427|4204628|\n",
      "| 102427|  24872|\n",
      "| 102427| 318811|\n",
      "| 102427|1894566|\n",
      "| 102427| 211452|\n",
      "| 102427|  55503|\n",
      "| 102427| 132640|\n",
      "| 102427| 267679|\n",
      "| 102427| 238419|\n",
      "| 102427|  59017|\n",
      "| 102427|1187554|\n",
      "| 102427| 282194|\n",
      "| 102427| 393268|\n",
      "| 102427|5947929|\n",
      "| 102427| 503032|\n",
      "| 102427|1218595|\n",
      "| 102427|  76028|\n",
      "| 102427| 397185|\n",
      "| 102427| 104015|\n",
      "| 102427| 713813|\n",
      "| 102427|  61299|\n",
      "| 102427|  21918|\n",
      "| 102427|3830157|\n",
      "| 102427|1406214|\n",
      "| 102427|4595831|\n",
      "| 102427| 139605|\n",
      "| 102427|1038179|\n",
      "| 102427|4899760|\n",
      "| 102427|4800193|\n",
      "| 102427|  47550|\n",
      "| 102427| 453447|\n",
      "| 102427|3565829|\n",
      "| 393268|1127460|\n",
      "| 393268|  27483|\n",
      "| 393268|  63775|\n",
      "| 393268|  60602|\n",
      "| 393268|2269511|\n",
      "| 393268|  65120|\n",
      "| 393268|1061543|\n",
      "| 393268|  46646|\n",
      "| 393268| 830423|\n",
      "| 393268|4204628|\n",
      "| 393268|  24872|\n",
      "| 393268| 318811|\n",
      "| 393268|1894566|\n",
      "| 393268| 211452|\n",
      "| 393268|  55503|\n",
      "| 393268| 132640|\n",
      "| 393268| 267679|\n",
      "| 393268| 238419|\n",
      "| 393268|  59017|\n",
      "| 393268|1187554|\n",
      "| 393268| 282194|\n",
      "| 393268| 102427|\n",
      "| 393268|5947929|\n",
      "| 393268| 503032|\n",
      "| 393268|1218595|\n",
      "| 393268|  76028|\n",
      "| 393268| 397185|\n",
      "| 393268| 104015|\n",
      "| 393268| 713813|\n",
      "| 393268|  61299|\n",
      "| 393268|  21918|\n",
      "| 393268|3830157|\n",
      "| 393268|1406214|\n",
      "| 393268|4595831|\n",
      "| 393268| 139605|\n",
      "| 393268|1038179|\n",
      "| 393268|4899760|\n",
      "| 393268|4800193|\n",
      "| 393268|  47550|\n",
      "| 393268| 453447|\n",
      "| 393268|3565829|\n",
      "|5947929|1127460|\n",
      "|5947929|  27483|\n",
      "|5947929|  63775|\n",
      "|5947929|  60602|\n",
      "|5947929|2269511|\n",
      "|5947929|  65120|\n",
      "|5947929|1061543|\n",
      "|5947929|  46646|\n",
      "|5947929| 830423|\n",
      "|5947929|4204628|\n",
      "|5947929|  24872|\n",
      "|5947929| 318811|\n",
      "|5947929|1894566|\n",
      "|5947929| 211452|\n",
      "|5947929|  55503|\n",
      "|5947929| 132640|\n",
      "|5947929| 267679|\n",
      "|5947929| 238419|\n",
      "|5947929|  59017|\n",
      "|5947929|1187554|\n",
      "|5947929| 282194|\n",
      "|5947929| 102427|\n",
      "|5947929| 393268|\n",
      "|5947929| 503032|\n",
      "|5947929|1218595|\n",
      "|5947929|  76028|\n",
      "|5947929| 397185|\n",
      "|5947929| 104015|\n",
      "|5947929| 713813|\n",
      "|5947929|  61299|\n",
      "|5947929|  21918|\n",
      "|5947929|3830157|\n",
      "|5947929|1406214|\n",
      "|5947929|4595831|\n",
      "|5947929| 139605|\n",
      "|5947929|1038179|\n",
      "|5947929|4899760|\n",
      "|5947929|4800193|\n",
      "|5947929|  47550|\n",
      "|5947929| 453447|\n",
      "|5947929|3565829|\n",
      "| 503032|1127460|\n",
      "| 503032|  27483|\n",
      "| 503032|  63775|\n",
      "| 503032|  60602|\n",
      "| 503032|2269511|\n",
      "| 503032|  65120|\n",
      "| 503032|1061543|\n",
      "| 503032|  46646|\n",
      "| 503032| 830423|\n",
      "| 503032|4204628|\n",
      "| 503032|  24872|\n",
      "| 503032| 318811|\n",
      "| 503032|1894566|\n",
      "| 503032| 211452|\n",
      "| 503032|  55503|\n",
      "| 503032| 132640|\n",
      "| 503032| 267679|\n",
      "| 503032| 238419|\n",
      "| 503032|  59017|\n",
      "| 503032|1187554|\n",
      "| 503032| 282194|\n",
      "| 503032| 102427|\n",
      "| 503032| 393268|\n",
      "| 503032|5947929|\n",
      "| 503032|1218595|\n",
      "| 503032|  76028|\n",
      "| 503032| 397185|\n",
      "| 503032| 104015|\n",
      "| 503032| 713813|\n",
      "| 503032|  61299|\n",
      "| 503032|  21918|\n",
      "| 503032|3830157|\n",
      "| 503032|1406214|\n",
      "| 503032|4595831|\n",
      "| 503032| 139605|\n",
      "| 503032|1038179|\n",
      "| 503032|4899760|\n",
      "| 503032|4800193|\n",
      "| 503032|  47550|\n",
      "| 503032| 453447|\n",
      "| 503032|3565829|\n",
      "|1218595|1127460|\n",
      "|1218595|  27483|\n",
      "|1218595|  63775|\n",
      "|1218595|  60602|\n",
      "|1218595|2269511|\n",
      "|1218595|  65120|\n",
      "|1218595|1061543|\n",
      "|1218595|  46646|\n",
      "|1218595| 830423|\n",
      "|1218595|4204628|\n",
      "|1218595|  24872|\n",
      "|1218595| 318811|\n",
      "|1218595|1894566|\n",
      "|1218595| 211452|\n",
      "|1218595|  55503|\n",
      "|1218595| 132640|\n",
      "|1218595| 267679|\n",
      "|1218595| 238419|\n",
      "|1218595|  59017|\n",
      "|1218595|1187554|\n",
      "|1218595| 282194|\n",
      "|1218595| 102427|\n",
      "|1218595| 393268|\n",
      "|1218595|5947929|\n",
      "|1218595| 503032|\n",
      "|1218595|  76028|\n",
      "|1218595| 397185|\n",
      "|1218595| 104015|\n",
      "|1218595| 713813|\n",
      "|1218595|  61299|\n",
      "|1218595|  21918|\n",
      "|1218595|3830157|\n",
      "|1218595|1406214|\n",
      "|1218595|4595831|\n",
      "|1218595| 139605|\n",
      "|1218595|1038179|\n",
      "|1218595|4899760|\n",
      "|1218595|4800193|\n",
      "|1218595|  47550|\n",
      "|1218595| 453447|\n",
      "|1218595|3565829|\n",
      "|  76028|1127460|\n",
      "|  76028|  27483|\n",
      "|  76028|  63775|\n",
      "|  76028|  60602|\n",
      "|  76028|2269511|\n",
      "|  76028|  65120|\n",
      "|  76028|1061543|\n",
      "|  76028|  46646|\n",
      "|  76028| 830423|\n",
      "|  76028|4204628|\n",
      "|  76028|  24872|\n",
      "|  76028| 318811|\n",
      "|  76028|1894566|\n",
      "|  76028| 211452|\n",
      "|  76028|  55503|\n",
      "|  76028| 132640|\n",
      "|  76028| 267679|\n",
      "|  76028| 238419|\n",
      "|  76028|  59017|\n",
      "|  76028|1187554|\n",
      "|  76028| 282194|\n",
      "|  76028| 102427|\n",
      "|  76028| 393268|\n",
      "|  76028|5947929|\n",
      "|  76028| 503032|\n",
      "|  76028|1218595|\n",
      "|  76028| 397185|\n",
      "|  76028| 104015|\n",
      "|  76028| 713813|\n",
      "|  76028|  61299|\n",
      "|  76028|  21918|\n",
      "|  76028|3830157|\n",
      "|  76028|1406214|\n",
      "|  76028|4595831|\n",
      "|  76028| 139605|\n",
      "|  76028|1038179|\n",
      "|  76028|4899760|\n",
      "|  76028|4800193|\n",
      "|  76028|  47550|\n",
      "|  76028| 453447|\n",
      "|  76028|3565829|\n",
      "| 397185|1127460|\n",
      "| 397185|  27483|\n",
      "| 397185|  63775|\n",
      "| 397185|  60602|\n",
      "| 397185|2269511|\n",
      "| 397185|  65120|\n",
      "| 397185|1061543|\n",
      "| 397185|  46646|\n",
      "| 397185| 830423|\n",
      "| 397185|4204628|\n",
      "| 397185|  24872|\n",
      "| 397185| 318811|\n",
      "| 397185|1894566|\n",
      "| 397185| 211452|\n",
      "| 397185|  55503|\n",
      "| 397185| 132640|\n",
      "| 397185| 267679|\n",
      "| 397185| 238419|\n",
      "| 397185|  59017|\n",
      "| 397185|1187554|\n",
      "| 397185| 282194|\n",
      "| 397185| 102427|\n",
      "| 397185| 393268|\n",
      "| 397185|5947929|\n",
      "| 397185| 503032|\n",
      "| 397185|1218595|\n",
      "| 397185|  76028|\n",
      "| 397185| 104015|\n",
      "| 397185| 713813|\n",
      "| 397185|  61299|\n",
      "| 397185|  21918|\n",
      "| 397185|3830157|\n",
      "| 397185|1406214|\n",
      "| 397185|4595831|\n",
      "| 397185| 139605|\n",
      "| 397185|1038179|\n",
      "| 397185|4899760|\n",
      "| 397185|4800193|\n",
      "| 397185|  47550|\n",
      "| 397185| 453447|\n",
      "| 397185|3565829|\n",
      "| 104015|1127460|\n",
      "| 104015|  27483|\n",
      "| 104015|  63775|\n",
      "| 104015|  60602|\n",
      "| 104015|2269511|\n",
      "| 104015|  65120|\n",
      "| 104015|1061543|\n",
      "| 104015|  46646|\n",
      "| 104015| 830423|\n",
      "| 104015|4204628|\n",
      "| 104015|  24872|\n",
      "| 104015| 318811|\n",
      "| 104015|1894566|\n",
      "| 104015| 211452|\n",
      "| 104015|  55503|\n",
      "| 104015| 132640|\n",
      "| 104015| 267679|\n",
      "| 104015| 238419|\n",
      "| 104015|  59017|\n",
      "| 104015|1187554|\n",
      "| 104015| 282194|\n",
      "| 104015| 102427|\n",
      "| 104015| 393268|\n",
      "| 104015|5947929|\n",
      "| 104015| 503032|\n",
      "| 104015|1218595|\n",
      "| 104015|  76028|\n",
      "| 104015| 397185|\n",
      "| 104015| 713813|\n",
      "| 104015|  61299|\n",
      "| 104015|  21918|\n",
      "| 104015|3830157|\n",
      "| 104015|1406214|\n",
      "| 104015|4595831|\n",
      "| 104015| 139605|\n",
      "| 104015|1038179|\n",
      "| 104015|4899760|\n",
      "| 104015|4800193|\n",
      "| 104015|  47550|\n",
      "| 104015| 453447|\n",
      "| 104015|3565829|\n",
      "| 713813|1127460|\n",
      "| 713813|  27483|\n",
      "| 713813|  63775|\n",
      "| 713813|  60602|\n",
      "| 713813|2269511|\n",
      "| 713813|  65120|\n",
      "| 713813|1061543|\n",
      "| 713813|  46646|\n",
      "| 713813| 830423|\n",
      "| 713813|4204628|\n",
      "| 713813|  24872|\n",
      "| 713813| 318811|\n",
      "| 713813|1894566|\n",
      "| 713813| 211452|\n",
      "| 713813|  55503|\n",
      "| 713813| 132640|\n",
      "| 713813| 267679|\n",
      "| 713813| 238419|\n",
      "| 713813|  59017|\n",
      "| 713813|1187554|\n",
      "| 713813| 282194|\n",
      "| 713813| 102427|\n",
      "| 713813| 393268|\n",
      "| 713813|5947929|\n",
      "| 713813| 503032|\n",
      "| 713813|1218595|\n",
      "| 713813|  76028|\n",
      "| 713813| 397185|\n",
      "| 713813| 104015|\n",
      "| 713813|  61299|\n",
      "| 713813|  21918|\n",
      "| 713813|3830157|\n",
      "| 713813|1406214|\n",
      "| 713813|4595831|\n",
      "| 713813| 139605|\n",
      "| 713813|1038179|\n",
      "| 713813|4899760|\n",
      "| 713813|4800193|\n",
      "| 713813|  47550|\n",
      "| 713813| 453447|\n",
      "| 713813|3565829|\n",
      "|  61299|1127460|\n",
      "|  61299|  27483|\n",
      "|  61299|  63775|\n",
      "|  61299|  60602|\n",
      "|  61299|2269511|\n",
      "|  61299|  65120|\n",
      "|  61299|1061543|\n",
      "|  61299|  46646|\n",
      "|  61299| 830423|\n",
      "|  61299|4204628|\n",
      "|  61299|  24872|\n",
      "|  61299| 318811|\n",
      "|  61299|1894566|\n",
      "|  61299| 211452|\n",
      "|  61299|  55503|\n",
      "|  61299| 132640|\n",
      "|  61299| 267679|\n",
      "|  61299| 238419|\n",
      "|  61299|  59017|\n",
      "|  61299|1187554|\n",
      "|  61299| 282194|\n",
      "|  61299| 102427|\n",
      "|  61299| 393268|\n",
      "|  61299|5947929|\n",
      "|  61299| 503032|\n",
      "|  61299|1218595|\n",
      "|  61299|  76028|\n",
      "|  61299| 397185|\n",
      "|  61299| 104015|\n",
      "|  61299| 713813|\n",
      "|  61299|  21918|\n",
      "|  61299|3830157|\n",
      "|  61299|1406214|\n",
      "|  61299|4595831|\n",
      "|  61299| 139605|\n",
      "|  61299|1038179|\n",
      "|  61299|4899760|\n",
      "|  61299|4800193|\n",
      "|  61299|  47550|\n",
      "|  61299| 453447|\n",
      "|  61299|3565829|\n",
      "|  21918|1127460|\n",
      "|  21918|  27483|\n",
      "|  21918|  63775|\n",
      "|  21918|  60602|\n",
      "|  21918|2269511|\n",
      "|  21918|  65120|\n",
      "|  21918|1061543|\n",
      "|  21918|  46646|\n",
      "|  21918| 830423|\n",
      "|  21918|4204628|\n",
      "|  21918|  24872|\n",
      "|  21918| 318811|\n",
      "|  21918|1894566|\n",
      "|  21918| 211452|\n",
      "|  21918|  55503|\n",
      "|  21918| 132640|\n",
      "|  21918| 267679|\n",
      "|  21918| 238419|\n",
      "|  21918|  59017|\n",
      "|  21918|1187554|\n",
      "|  21918| 282194|\n",
      "|  21918| 102427|\n",
      "|  21918| 393268|\n",
      "|  21918|5947929|\n",
      "|  21918| 503032|\n",
      "|  21918|1218595|\n",
      "|  21918|  76028|\n",
      "|  21918| 397185|\n",
      "|  21918| 104015|\n",
      "|  21918| 713813|\n",
      "|  21918|  61299|\n",
      "|  21918|3830157|\n",
      "|  21918|1406214|\n",
      "|  21918|4595831|\n",
      "|  21918| 139605|\n",
      "|  21918|1038179|\n",
      "|  21918|4899760|\n",
      "|  21918|4800193|\n",
      "|  21918|  47550|\n",
      "|  21918| 453447|\n",
      "|  21918|3565829|\n",
      "|3830157|1127460|\n",
      "|3830157|  27483|\n",
      "|3830157|  63775|\n",
      "|3830157|  60602|\n",
      "|3830157|2269511|\n",
      "|3830157|  65120|\n",
      "|3830157|1061543|\n",
      "|3830157|  46646|\n",
      "|3830157| 830423|\n",
      "|3830157|4204628|\n",
      "|3830157|  24872|\n",
      "|3830157| 318811|\n",
      "|3830157|1894566|\n",
      "|3830157| 211452|\n",
      "|3830157|  55503|\n",
      "|3830157| 132640|\n",
      "|3830157| 267679|\n",
      "|3830157| 238419|\n",
      "|3830157|  59017|\n",
      "|3830157|1187554|\n",
      "|3830157| 282194|\n",
      "|3830157| 102427|\n",
      "|3830157| 393268|\n",
      "|3830157|5947929|\n",
      "|3830157| 503032|\n",
      "|3830157|1218595|\n",
      "|3830157|  76028|\n",
      "|3830157| 397185|\n",
      "|3830157| 104015|\n",
      "|3830157| 713813|\n",
      "|3830157|  61299|\n",
      "|3830157|  21918|\n",
      "|3830157|1406214|\n",
      "|3830157|4595831|\n",
      "|3830157| 139605|\n",
      "|3830157|1038179|\n",
      "|3830157|4899760|\n",
      "|3830157|4800193|\n",
      "|3830157|  47550|\n",
      "|3830157| 453447|\n",
      "|3830157|3565829|\n",
      "|1406214|1127460|\n",
      "|1406214|  27483|\n",
      "|1406214|  63775|\n",
      "|1406214|  60602|\n",
      "|1406214|2269511|\n",
      "|1406214|  65120|\n",
      "|1406214|1061543|\n",
      "|1406214|  46646|\n",
      "|1406214| 830423|\n",
      "|1406214|4204628|\n",
      "|1406214|  24872|\n",
      "|1406214| 318811|\n",
      "|1406214|1894566|\n",
      "|1406214| 211452|\n",
      "|1406214|  55503|\n",
      "|1406214| 132640|\n",
      "|1406214| 267679|\n",
      "|1406214| 238419|\n",
      "|1406214|  59017|\n",
      "|1406214|1187554|\n",
      "|1406214| 282194|\n",
      "|1406214| 102427|\n",
      "|1406214| 393268|\n",
      "|1406214|5947929|\n",
      "|1406214| 503032|\n",
      "|1406214|1218595|\n",
      "|1406214|  76028|\n",
      "|1406214| 397185|\n",
      "|1406214| 104015|\n",
      "|1406214| 713813|\n",
      "|1406214|  61299|\n",
      "|1406214|  21918|\n",
      "|1406214|3830157|\n",
      "|1406214|4595831|\n",
      "|1406214| 139605|\n",
      "|1406214|1038179|\n",
      "|1406214|4899760|\n",
      "|1406214|4800193|\n",
      "|1406214|  47550|\n",
      "|1406214| 453447|\n",
      "|1406214|3565829|\n",
      "|4595831|1127460|\n",
      "|4595831|  27483|\n",
      "|4595831|  63775|\n",
      "|4595831|  60602|\n",
      "|4595831|2269511|\n",
      "|4595831|  65120|\n",
      "|4595831|1061543|\n",
      "|4595831|  46646|\n",
      "|4595831| 830423|\n",
      "|4595831|4204628|\n",
      "|4595831|  24872|\n",
      "|4595831| 318811|\n",
      "|4595831|1894566|\n",
      "|4595831| 211452|\n",
      "|4595831|  55503|\n",
      "|4595831| 132640|\n",
      "|4595831| 267679|\n",
      "|4595831| 238419|\n",
      "|4595831|  59017|\n",
      "|4595831|1187554|\n",
      "|4595831| 282194|\n",
      "|4595831| 102427|\n",
      "|4595831| 393268|\n",
      "|4595831|5947929|\n",
      "|4595831| 503032|\n",
      "|4595831|1218595|\n",
      "|4595831|  76028|\n",
      "|4595831| 397185|\n",
      "|4595831| 104015|\n",
      "|4595831| 713813|\n",
      "|4595831|  61299|\n",
      "|4595831|  21918|\n",
      "|4595831|3830157|\n",
      "|4595831|1406214|\n",
      "|4595831| 139605|\n",
      "|4595831|1038179|\n",
      "|4595831|4899760|\n",
      "|4595831|4800193|\n",
      "|4595831|  47550|\n",
      "|4595831| 453447|\n",
      "|4595831|3565829|\n",
      "| 139605|1127460|\n",
      "| 139605|  27483|\n",
      "| 139605|  63775|\n",
      "| 139605|  60602|\n",
      "| 139605|2269511|\n",
      "| 139605|  65120|\n",
      "| 139605|1061543|\n",
      "| 139605|  46646|\n",
      "| 139605| 830423|\n",
      "| 139605|4204628|\n",
      "| 139605|  24872|\n",
      "| 139605| 318811|\n",
      "| 139605|1894566|\n",
      "| 139605| 211452|\n",
      "| 139605|  55503|\n",
      "| 139605| 132640|\n",
      "| 139605| 267679|\n",
      "| 139605| 238419|\n",
      "| 139605|  59017|\n",
      "| 139605|1187554|\n",
      "| 139605| 282194|\n",
      "| 139605| 102427|\n",
      "| 139605| 393268|\n",
      "| 139605|5947929|\n",
      "| 139605| 503032|\n",
      "| 139605|1218595|\n",
      "| 139605|  76028|\n",
      "| 139605| 397185|\n",
      "| 139605| 104015|\n",
      "| 139605| 713813|\n",
      "| 139605|  61299|\n",
      "| 139605|  21918|\n",
      "| 139605|3830157|\n",
      "| 139605|1406214|\n",
      "| 139605|4595831|\n",
      "| 139605|1038179|\n",
      "| 139605|4899760|\n",
      "| 139605|4800193|\n",
      "| 139605|  47550|\n",
      "| 139605| 453447|\n",
      "| 139605|3565829|\n",
      "|1038179|1127460|\n",
      "|1038179|  27483|\n",
      "|1038179|  63775|\n",
      "|1038179|  60602|\n",
      "|1038179|2269511|\n",
      "|1038179|  65120|\n",
      "|1038179|1061543|\n",
      "|1038179|  46646|\n",
      "|1038179| 830423|\n",
      "|1038179|4204628|\n",
      "|1038179|  24872|\n",
      "|1038179| 318811|\n",
      "|1038179|1894566|\n",
      "|1038179| 211452|\n",
      "|1038179|  55503|\n",
      "|1038179| 132640|\n",
      "|1038179| 267679|\n",
      "|1038179| 238419|\n",
      "|1038179|  59017|\n",
      "|1038179|1187554|\n",
      "|1038179| 282194|\n",
      "|1038179| 102427|\n",
      "|1038179| 393268|\n",
      "|1038179|5947929|\n",
      "|1038179| 503032|\n",
      "|1038179|1218595|\n",
      "|1038179|  76028|\n",
      "|1038179| 397185|\n",
      "|1038179| 104015|\n",
      "|1038179| 713813|\n",
      "|1038179|  61299|\n",
      "|1038179|  21918|\n",
      "|1038179|3830157|\n",
      "|1038179|1406214|\n",
      "|1038179|4595831|\n",
      "|1038179| 139605|\n",
      "|1038179|4899760|\n",
      "|1038179|4800193|\n",
      "|1038179|  47550|\n",
      "|1038179| 453447|\n",
      "|1038179|3565829|\n",
      "|4899760|1127460|\n",
      "|4899760|  27483|\n",
      "|4899760|  63775|\n",
      "|4899760|  60602|\n",
      "|4899760|2269511|\n",
      "|4899760|  65120|\n",
      "|4899760|1061543|\n",
      "|4899760|  46646|\n",
      "|4899760| 830423|\n",
      "|4899760|4204628|\n",
      "|4899760|  24872|\n",
      "|4899760| 318811|\n",
      "|4899760|1894566|\n",
      "|4899760| 211452|\n",
      "|4899760|  55503|\n",
      "|4899760| 132640|\n",
      "|4899760| 267679|\n",
      "|4899760| 238419|\n",
      "|4899760|  59017|\n",
      "|4899760|1187554|\n",
      "|4899760| 282194|\n",
      "|4899760| 102427|\n",
      "|4899760| 393268|\n",
      "|4899760|5947929|\n",
      "|4899760| 503032|\n",
      "|4899760|1218595|\n",
      "|4899760|  76028|\n",
      "|4899760| 397185|\n",
      "|4899760| 104015|\n",
      "|4899760| 713813|\n",
      "|4899760|  61299|\n",
      "|4899760|  21918|\n",
      "|4899760|3830157|\n",
      "|4899760|1406214|\n",
      "|4899760|4595831|\n",
      "|4899760| 139605|\n",
      "|4899760|1038179|\n",
      "|4899760|4800193|\n",
      "|4899760|  47550|\n",
      "|4899760| 453447|\n",
      "|4899760|3565829|\n",
      "|4800193|1127460|\n",
      "|4800193|  27483|\n",
      "|4800193|  63775|\n",
      "|4800193|  60602|\n",
      "|4800193|2269511|\n",
      "|4800193|  65120|\n",
      "|4800193|1061543|\n",
      "|4800193|  46646|\n",
      "|4800193| 830423|\n",
      "|4800193|4204628|\n",
      "|4800193|  24872|\n",
      "|4800193| 318811|\n",
      "|4800193|1894566|\n",
      "|4800193| 211452|\n",
      "|4800193|  55503|\n",
      "|4800193| 132640|\n",
      "|4800193| 267679|\n",
      "|4800193| 238419|\n",
      "|4800193|  59017|\n",
      "|4800193|1187554|\n",
      "|4800193| 282194|\n",
      "|4800193| 102427|\n",
      "|4800193| 393268|\n",
      "|4800193|5947929|\n",
      "|4800193| 503032|\n",
      "|4800193|1218595|\n",
      "|4800193|  76028|\n",
      "|4800193| 397185|\n",
      "|4800193| 104015|\n",
      "|4800193| 713813|\n",
      "|4800193|  61299|\n",
      "|4800193|  21918|\n",
      "|4800193|3830157|\n",
      "|4800193|1406214|\n",
      "|4800193|4595831|\n",
      "|4800193| 139605|\n",
      "|4800193|1038179|\n",
      "|4800193|4899760|\n",
      "|4800193|  47550|\n",
      "|4800193| 453447|\n",
      "|4800193|3565829|\n",
      "|  47550|1127460|\n",
      "|  47550|  27483|\n",
      "|  47550|  63775|\n",
      "|  47550|  60602|\n",
      "|  47550|2269511|\n",
      "|  47550|  65120|\n",
      "|  47550|1061543|\n",
      "|  47550|  46646|\n",
      "|  47550| 830423|\n",
      "|  47550|4204628|\n",
      "|  47550|  24872|\n",
      "|  47550| 318811|\n",
      "|  47550|1894566|\n",
      "|  47550| 211452|\n",
      "|  47550|  55503|\n",
      "|  47550| 132640|\n",
      "|  47550| 267679|\n",
      "|  47550| 238419|\n",
      "|  47550|  59017|\n",
      "|  47550|1187554|\n",
      "|  47550| 282194|\n",
      "|  47550| 102427|\n",
      "|  47550| 393268|\n",
      "|  47550|5947929|\n",
      "|  47550| 503032|\n",
      "|  47550|1218595|\n",
      "|  47550|  76028|\n",
      "|  47550| 397185|\n",
      "|  47550| 104015|\n",
      "|  47550| 713813|\n",
      "|  47550|  61299|\n",
      "|  47550|  21918|\n",
      "|  47550|3830157|\n",
      "|  47550|1406214|\n",
      "|  47550|4595831|\n",
      "|  47550| 139605|\n",
      "|  47550|1038179|\n",
      "|  47550|4899760|\n",
      "|  47550|4800193|\n",
      "|  47550| 453447|\n",
      "|  47550|3565829|\n",
      "| 453447|1127460|\n",
      "| 453447|  27483|\n",
      "| 453447|  63775|\n",
      "| 453447|  60602|\n",
      "| 453447|2269511|\n",
      "| 453447|  65120|\n",
      "| 453447|1061543|\n",
      "| 453447|  46646|\n",
      "| 453447| 830423|\n",
      "| 453447|4204628|\n",
      "| 453447|  24872|\n",
      "| 453447| 318811|\n",
      "| 453447|1894566|\n",
      "| 453447| 211452|\n",
      "| 453447|  55503|\n",
      "| 453447| 132640|\n",
      "| 453447| 267679|\n",
      "| 453447| 238419|\n",
      "| 453447|  59017|\n",
      "| 453447|1187554|\n",
      "| 453447| 282194|\n",
      "| 453447| 102427|\n",
      "| 453447| 393268|\n",
      "| 453447|5947929|\n",
      "| 453447| 503032|\n",
      "| 453447|1218595|\n",
      "| 453447|  76028|\n",
      "| 453447| 397185|\n",
      "| 453447| 104015|\n",
      "| 453447| 713813|\n",
      "| 453447|  61299|\n",
      "| 453447|  21918|\n",
      "| 453447|3830157|\n",
      "| 453447|1406214|\n",
      "| 453447|4595831|\n",
      "| 453447| 139605|\n",
      "| 453447|1038179|\n",
      "| 453447|4899760|\n",
      "| 453447|4800193|\n",
      "| 453447|  47550|\n",
      "| 453447|3565829|\n",
      "|3565829|1127460|\n",
      "|3565829|  27483|\n",
      "|3565829|  63775|\n",
      "|3565829|  60602|\n",
      "|3565829|2269511|\n",
      "|3565829|  65120|\n",
      "|3565829|1061543|\n",
      "|3565829|  46646|\n",
      "|3565829| 830423|\n",
      "|3565829|4204628|\n",
      "|3565829|  24872|\n",
      "|3565829| 318811|\n",
      "|3565829|1894566|\n",
      "|3565829| 211452|\n",
      "|3565829|  55503|\n",
      "|3565829| 132640|\n",
      "|3565829| 267679|\n",
      "|3565829| 238419|\n",
      "|3565829|  59017|\n",
      "|3565829|1187554|\n",
      "|3565829| 282194|\n",
      "|3565829| 102427|\n",
      "|3565829| 393268|\n",
      "|3565829|5947929|\n",
      "|3565829| 503032|\n",
      "|3565829|1218595|\n",
      "|3565829|  76028|\n",
      "|3565829| 397185|\n",
      "|3565829| 104015|\n",
      "|3565829| 713813|\n",
      "|3565829|  61299|\n",
      "|3565829|  21918|\n",
      "|3565829|3830157|\n",
      "|3565829|1406214|\n",
      "|3565829|4595831|\n",
      "|3565829| 139605|\n",
      "|3565829|1038179|\n",
      "|3565829|4899760|\n",
      "|3565829|4800193|\n",
      "|3565829|  47550|\n",
      "|3565829| 453447|\n",
      "+-------+-------+\n",
      "\n"
     ]
    }
   ],
   "source": [
    "friend_recommendations_sdf.show(1721)"
   ]
  },
  {
   "cell_type": "markdown",
   "metadata": {},
   "source": [
    "## Step 4.3: Graph visualization"
   ]
  },
  {
   "cell_type": "markdown",
   "metadata": {},
   "source": [
    "### Once you have excecuted the cells in Step 4.2 and you have friend_recommendations_sdf, lets create friend_recommendations_df using toPandas(). This creates an in-memory dataFrame that we can use to build the graph. Here we have used ('from_node','to_node') as column names in friend_recommendations_sdf, please change it to what you have used in yours."
   ]
  },
  {
   "cell_type": "code",
   "execution_count": 327,
   "metadata": {
    "collapsed": true
   },
   "outputs": [],
   "source": [
    "import networkx as nx\n",
    "\n",
    "# TODO: create friend_graph NetworkX graph from friend_recommendations_df from friend_recommendations_sdf\n",
    "friends_recommendation_pandas = friend_recommendations_sdf.toPandas()\n",
    "friend_graph = nx.from_pandas_dataframe(friends_recommendation_pandas, 'node1','node2')"
   ]
  },
  {
   "cell_type": "markdown",
   "metadata": {},
   "source": [
    "## Step 4.3 Results"
   ]
  },
  {
   "cell_type": "code",
   "execution_count": 328,
   "metadata": {
    "collapsed": false
   },
   "outputs": [
    {
     "name": "stdout",
     "output_type": "stream",
     "text": [
      "Number of nodes (characters) in this graph is 42\n",
      "Number of edges in this graph is 861\n",
      "Graph diameter is 1\n"
     ]
    }
   ],
   "source": [
    "print (\"Number of nodes (characters) in this graph is\", friend_graph.order()) # number of nodes\n",
    "print (\"Number of edges in this graph is\", len(friend_graph.edges())) # number of edges\n",
    "print (\"Graph diameter is\", nx.diameter(friend_graph)) # maximum eccentricity"
   ]
  },
  {
   "cell_type": "code",
   "execution_count": 329,
   "metadata": {
    "collapsed": false
   },
   "outputs": [
    {
     "data": {
      "image/png": "[encoded data removed]",
      "text/plain": [
       "<matplotlib.figure.Figure at 0x7fa71819b780>"
      ]
     },
     "metadata": {},
     "output_type": "display_data"
    }
   ],
   "source": [
    "%matplotlib inline\n",
    "nx.draw(friend_graph)"
   ]
  },
  {
   "cell_type": "code",
   "execution_count": null,
   "metadata": {
    "collapsed": true
   },
   "outputs": [],
   "source": []
  }
 ],
 "metadata": {
  "kernelspec": {
   "display_name": "Python 3",
   "language": "python",
   "name": "python3"
  },
  "language_info": {
   "codemirror_mode": {
    "name": "ipython",
    "version": 3
   },
   "file_extension": ".py",
   "mimetype": "text/x-python",
   "name": "python",
   "nbconvert_exporter": "python",
   "pygments_lexer": "ipython3",
   "version": "3.6.0"
  }
 },
 "nbformat": 4,
 "nbformat_minor": 2
}
